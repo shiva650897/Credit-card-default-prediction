{
  "nbformat": 4,
  "nbformat_minor": 0,
  "metadata": {
    "colab": {
      "name": "Oversampling_techniques.ipynb",
      "version": "0.3.2",
      "provenance": [],
      "include_colab_link": true
    },
    "kernelspec": {
      "name": "python3",
      "display_name": "Python 3"
    }
  },
  "cells": [
    {
      "cell_type": "markdown",
      "metadata": {
        "id": "view-in-github",
        "colab_type": "text"
      },
      "source": [
        "<a href=\"https://colab.research.google.com/github/shiva650897/Credit-card-default-prediction/blob/master/Oversampling_techniques.ipynb\" target=\"_parent\"><img src=\"https://colab.research.google.com/assets/colab-badge.svg\" alt=\"Open In Colab\"/></a>"
      ]
    },
    {
      "cell_type": "markdown",
      "metadata": {
        "id": "cSMKkW5jjQCy",
        "colab_type": "text"
      },
      "source": [
        "# Random Forest"
      ]
    },
    {
      "cell_type": "code",
      "metadata": {
        "id": "ddH7kIgljQCz",
        "colab_type": "code",
        "outputId": "36efe40c-7bbd-4ca7-e5a6-45d398c36020",
        "colab": {
          "base_uri": "https://localhost:8080/",
          "height": 181
        }
      },
      "source": [
        "rf1=rf.fit(X_train1,y_train1)\n",
        "predyrf1=rf1.predict(X_test1)\n",
        "print(classification_report(y_test1,predyrf1))"
      ],
      "execution_count": 0,
      "outputs": [
        {
          "output_type": "stream",
          "text": [
            "              precision    recall  f1-score   support\n",
            "\n",
            "           0       0.83      0.94      0.88      6987\n",
            "           1       0.61      0.33      0.43      2013\n",
            "\n",
            "    accuracy                           0.80      9000\n",
            "   macro avg       0.72      0.64      0.66      9000\n",
            "weighted avg       0.78      0.80      0.78      9000\n",
            "\n"
          ],
          "name": "stdout"
        }
      ]
    },
    {
      "cell_type": "code",
      "metadata": {
        "id": "JJD9yqgT2lL0",
        "colab_type": "code",
        "colab": {}
      },
      "source": [
        "X=df.drop('default',axis=1)\n",
        "y=df.default"
      ],
      "execution_count": 0,
      "outputs": []
    },
    {
      "cell_type": "markdown",
      "metadata": {
        "id": "iNSBYKGjjQC0",
        "colab_type": "text"
      },
      "source": [
        "## Using upsampling:"
      ]
    },
    {
      "cell_type": "code",
      "metadata": {
        "id": "IZyjuF3Z2lm5",
        "colab_type": "code",
        "colab": {}
      },
      "source": [
        "X_train,X_test,y_train,y_test=train_test_split(X,y,stratify=y,test_size=0.3,random_state=1234)"
      ],
      "execution_count": 0,
      "outputs": []
    },
    {
      "cell_type": "code",
      "metadata": {
        "id": "2DTaOGop-byv",
        "colab_type": "code",
        "outputId": "f3de3bf4-04cd-4a63-8a52-e1adfa808f73",
        "colab": {
          "base_uri": "https://localhost:8080/",
          "height": 35
        }
      },
      "source": [
        "X_train.shape,X_test.shape,y_train.shape"
      ],
      "execution_count": 0,
      "outputs": [
        {
          "output_type": "execute_result",
          "data": {
            "text/plain": [
              "((21000, 32), (9000, 32), (21000,))"
            ]
          },
          "metadata": {
            "tags": []
          },
          "execution_count": 69
        }
      ]
    },
    {
      "cell_type": "code",
      "metadata": {
        "id": "nvDE0bP0Ei4E",
        "colab_type": "code",
        "outputId": "e7aaa127-83df-401c-e4eb-7fb3fa396b34",
        "colab": {
          "base_uri": "https://localhost:8080/",
          "height": 72
        }
      },
      "source": [
        "y_train.value_counts(1)"
      ],
      "execution_count": 0,
      "outputs": [
        {
          "output_type": "execute_result",
          "data": {
            "text/plain": [
              "0    0.77881\n",
              "1    0.22119\n",
              "Name: default, dtype: float64"
            ]
          },
          "metadata": {
            "tags": []
          },
          "execution_count": 70
        }
      ]
    },
    {
      "cell_type": "code",
      "metadata": {
        "id": "lBm-09rQAEtT",
        "colab_type": "code",
        "colab": {}
      },
      "source": [
        "train_upsampled = pd.concat([X_train,y_train],axis=1)"
      ],
      "execution_count": 0,
      "outputs": []
    },
    {
      "cell_type": "code",
      "metadata": {
        "id": "-nZS-O49BsA6",
        "colab_type": "code",
        "colab": {}
      },
      "source": [
        ""
      ],
      "execution_count": 0,
      "outputs": []
    },
    {
      "cell_type": "code",
      "metadata": {
        "id": "4Upf5jpXjQC1",
        "colab_type": "code",
        "colab": {}
      },
      "source": [
        "# Separate majority and minority classes\n",
        "train_majority = train_upsampled[train_upsampled.default==0]\n",
        "train_minority = train_upsampled[train_upsampled.default==1]"
      ],
      "execution_count": 0,
      "outputs": []
    },
    {
      "cell_type": "code",
      "metadata": {
        "id": "DVsHEf-T6jz0",
        "colab_type": "code",
        "outputId": "9c837f3d-6bce-4e2b-8727-1a27b6f6c422",
        "colab": {
          "base_uri": "https://localhost:8080/",
          "height": 35
        }
      },
      "source": [
        "train_minority.shape,train_majority.shape"
      ],
      "execution_count": 0,
      "outputs": [
        {
          "output_type": "execute_result",
          "data": {
            "text/plain": [
              "((4645, 33), (16355, 33))"
            ]
          },
          "metadata": {
            "tags": []
          },
          "execution_count": 73
        }
      ]
    },
    {
      "cell_type": "code",
      "metadata": {
        "id": "8yV71WncjQC3",
        "colab_type": "code",
        "colab": {}
      },
      "source": [
        "from sklearn.utils import resample"
      ],
      "execution_count": 0,
      "outputs": []
    },
    {
      "cell_type": "code",
      "metadata": {
        "id": "etMhavCQjQC9",
        "colab_type": "code",
        "colab": {}
      },
      "source": [
        "# Upsample minority class\n",
        "train_minority_upsampled = resample(train_minority, \n",
        "                                 replace=True,     # sample with replacement\n",
        "                                 n_samples=16355,    # to match majority class\n",
        "                                 random_state=1234) # reproducible results"
      ],
      "execution_count": 0,
      "outputs": []
    },
    {
      "cell_type": "code",
      "metadata": {
        "colab_type": "code",
        "id": "WOqlZPb3DD3z",
        "colab": {}
      },
      "source": [
        "# Combine majority class with upsampled minority class\n",
        "upsampled = pd.concat([train_majority, train_minority_upsampled])"
      ],
      "execution_count": 0,
      "outputs": []
    },
    {
      "cell_type": "code",
      "metadata": {
        "id": "9TLGpO0_DMjo",
        "colab_type": "code",
        "outputId": "a844ba98-42db-4d17-8318-07a0426ad2de",
        "colab": {
          "base_uri": "https://localhost:8080/",
          "height": 35
        }
      },
      "source": [
        "upsampled.shape"
      ],
      "execution_count": 0,
      "outputs": [
        {
          "output_type": "execute_result",
          "data": {
            "text/plain": [
              "(32710, 33)"
            ]
          },
          "metadata": {
            "tags": []
          },
          "execution_count": 77
        }
      ]
    },
    {
      "cell_type": "code",
      "metadata": {
        "id": "dgwK6KxXGCEB",
        "colab_type": "code",
        "colab": {}
      },
      "source": [
        "x_train_upsampled=upsampled.drop('default',axis=1)"
      ],
      "execution_count": 0,
      "outputs": []
    },
    {
      "cell_type": "code",
      "metadata": {
        "id": "rRuchGB2E8bV",
        "colab_type": "code",
        "colab": {}
      },
      "source": [
        "y_train_upsampled=upsampled.default"
      ],
      "execution_count": 0,
      "outputs": []
    },
    {
      "cell_type": "code",
      "metadata": {
        "id": "q4tWNUglFLz8",
        "colab_type": "code",
        "outputId": "d8af784b-9653-4fb7-83c9-b5eee56ed5aa",
        "colab": {
          "base_uri": "https://localhost:8080/",
          "height": 35
        }
      },
      "source": [
        "y_train_upsampled.shape"
      ],
      "execution_count": 0,
      "outputs": [
        {
          "output_type": "execute_result",
          "data": {
            "text/plain": [
              "(32710,)"
            ]
          },
          "metadata": {
            "tags": []
          },
          "execution_count": 80
        }
      ]
    },
    {
      "cell_type": "code",
      "metadata": {
        "id": "uJcXSpqiGGeC",
        "colab_type": "code",
        "colab": {}
      },
      "source": [
        "from sklearn.model_selection import GridSearchCV"
      ],
      "execution_count": 0,
      "outputs": []
    },
    {
      "cell_type": "markdown",
      "metadata": {
        "id": "-aFYu7jrOUTq",
        "colab_type": "text"
      },
      "source": [
        "## LogisticRegression upsampling"
      ]
    },
    {
      "cell_type": "code",
      "metadata": {
        "id": "VhIVikjtgOwH",
        "colab_type": "code",
        "outputId": "0c37fc95-1c2f-4599-f058-346722a2210d",
        "colab": {
          "base_uri": "https://localhost:8080/",
          "height": 128
        }
      },
      "source": [
        "lr=LogisticRegression(solver='liblinear')\n",
        "lr_params={'C':[0.001,0.01, 0.1, 1, 10],'class_weight':[None,'balanced'],'penalty':['l1','l2']}\n",
        "lr_pred,lr_prob=gridsearchcv(lr,lr_params,x_train_upsampled,y_train_upsampled)"
      ],
      "execution_count": 0,
      "outputs": [
        {
          "output_type": "stream",
          "text": [
            "/usr/local/lib/python3.6/dist-packages/sklearn/model_selection/_split.py:1978: FutureWarning: The default value of cv will change from 3 to 5 in version 0.22. Specify it explicitly to silence this warning.\n",
            "  warnings.warn(CV_WARNING, FutureWarning)\n"
          ],
          "name": "stderr"
        },
        {
          "output_type": "stream",
          "text": [
            "Best Params: {'C': 10, 'class_weight': None, 'penalty': 'l1'}\n",
            "Best auc on training set: 0.72995487894254\n",
            "Best auc on test set: 0.7263557029603683\n"
          ],
          "name": "stdout"
        }
      ]
    },
    {
      "cell_type": "code",
      "metadata": {
        "colab_type": "code",
        "id": "xtnxgRx0EMCF",
        "outputId": "79e0203c-2544-4511-905e-5526bb5a2abb",
        "colab": {
          "base_uri": "https://localhost:8080/",
          "height": 74
        }
      },
      "source": [
        "clf_2 = LogisticRegression(C=10,class_weight='balanced',penalty='l1').fit(x_train_upsampled, y_train_upsampled)"
      ],
      "execution_count": 0,
      "outputs": [
        {
          "output_type": "stream",
          "text": [
            "/usr/local/lib/python3.6/dist-packages/sklearn/linear_model/logistic.py:432: FutureWarning: Default solver will be changed to 'lbfgs' in 0.22. Specify a solver to silence this warning.\n",
            "  FutureWarning)\n"
          ],
          "name": "stderr"
        }
      ]
    },
    {
      "cell_type": "code",
      "metadata": {
        "colab_type": "code",
        "id": "E3ITCpE6EWHO",
        "colab": {}
      },
      "source": [
        "pred_y_2 = clf_2.predict(X_test)"
      ],
      "execution_count": 0,
      "outputs": []
    },
    {
      "cell_type": "code",
      "metadata": {
        "colab_type": "code",
        "id": "m4HqurxREqZl",
        "outputId": "b626cfb0-498b-4a09-8df5-266f7ff05b79",
        "colab": {
          "base_uri": "https://localhost:8080/",
          "height": 35
        }
      },
      "source": [
        "accuracy_score(y_test, pred_y_2)"
      ],
      "execution_count": 0,
      "outputs": [
        {
          "output_type": "execute_result",
          "data": {
            "text/plain": [
              "0.6916666666666667"
            ]
          },
          "metadata": {
            "tags": []
          },
          "execution_count": 85
        }
      ]
    },
    {
      "cell_type": "code",
      "metadata": {
        "colab_type": "code",
        "id": "yAT1vzgKL_jn",
        "outputId": "2e0e7e70-ed0a-4ade-e2b4-8641e763d450",
        "colab": {
          "base_uri": "https://localhost:8080/",
          "height": 54
        }
      },
      "source": [
        "confusion_matrix(y_test, pred_y_2)"
      ],
      "execution_count": 0,
      "outputs": [
        {
          "output_type": "execute_result",
          "data": {
            "text/plain": [
              "array([[4951, 2058],\n",
              "       [ 717, 1274]])"
            ]
          },
          "metadata": {
            "tags": []
          },
          "execution_count": 86
        }
      ]
    },
    {
      "cell_type": "code",
      "metadata": {
        "colab_type": "code",
        "id": "yHuG9Uo1NQdX",
        "outputId": "34234045-b5de-4686-f828-3540f14e0181",
        "colab": {
          "base_uri": "https://localhost:8080/",
          "height": 181
        }
      },
      "source": [
        "print(classification_report(y_test, pred_y_2))"
      ],
      "execution_count": 0,
      "outputs": [
        {
          "output_type": "stream",
          "text": [
            "              precision    recall  f1-score   support\n",
            "\n",
            "           0       0.87      0.71      0.78      7009\n",
            "           1       0.38      0.64      0.48      1991\n",
            "\n",
            "    accuracy                           0.69      9000\n",
            "   macro avg       0.63      0.67      0.63      9000\n",
            "weighted avg       0.76      0.69      0.71      9000\n",
            "\n"
          ],
          "name": "stdout"
        }
      ]
    },
    {
      "cell_type": "code",
      "metadata": {
        "id": "cSetv6qej-eA",
        "colab_type": "code",
        "outputId": "6e9c0ce3-e90c-45e2-f8c1-0385dcb63547",
        "colab": {
          "base_uri": "https://localhost:8080/",
          "height": 269
        }
      },
      "source": [
        "test_pred_proba = clf_2.predict_proba(X_test)[::,1]\n",
        "fpr, tpr, _ = metrics.roc_curve(y_test,  test_pred_proba)\n",
        "auc = metrics.roc_auc_score(y_test, test_pred_proba)\n",
        "plt.plot(fpr,tpr,label=\"data 1, auc=\"+str(auc))\n",
        "plt.legend(loc=4)\n",
        "plt.show()"
      ],
      "execution_count": 0,
      "outputs": [
        {
          "output_type": "display_data",
          "data": {
            "image/png": "[encoded data removed]",
            "text/plain": [
              "<Figure size 432x288 with 1 Axes>"
            ]
          },
          "metadata": {
            "tags": []
          }
        }
      ]
    },
    {
      "cell_type": "code",
      "metadata": {
        "id": "JDCfZgoPIDtz",
        "colab_type": "code",
        "outputId": "1dc9be2c-d861-4e70-e152-c44c4fced1e7",
        "colab": {
          "base_uri": "https://localhost:8080/",
          "height": 470
        }
      },
      "source": [
        "plot_roc(lr_prob)"
      ],
      "execution_count": 0,
      "outputs": [
        {
          "output_type": "display_data",
          "data": {
            "image/png": "[encoded data removed]",
            "text/plain": [
              "<Figure size 648x504 with 1 Axes>"
            ]
          },
          "metadata": {
            "tags": []
          }
        }
      ]
    },
    {
      "cell_type": "markdown",
      "metadata": {
        "id": "pJ555xRkjQDg",
        "colab_type": "text"
      },
      "source": [
        "## Decision Tree with upsampling"
      ]
    },
    {
      "cell_type": "code",
      "metadata": {
        "id": "R54vmU98jQDg",
        "colab_type": "code",
        "outputId": "85c1912b-e428-4401-d999-83844ffa163e",
        "colab": {
          "base_uri": "https://localhost:8080/",
          "height": 181
        }
      },
      "source": [
        "DTupsampled=DT2.fit(x_train_upsampled, y_train_upsampled)\n",
        "predydt3=DTupsampled.predict(X_test)\n",
        "print(classification_report(y_test,predydt3))"
      ],
      "execution_count": 0,
      "outputs": [
        {
          "output_type": "stream",
          "text": [
            "              precision    recall  f1-score   support\n",
            "\n",
            "           0       0.83      0.83      0.83      7009\n",
            "           1       0.39      0.39      0.39      1991\n",
            "\n",
            "    accuracy                           0.73      9000\n",
            "   macro avg       0.61      0.61      0.61      9000\n",
            "weighted avg       0.73      0.73      0.73      9000\n",
            "\n"
          ],
          "name": "stdout"
        }
      ]
    },
    {
      "cell_type": "code",
      "metadata": {
        "id": "l8suOCPjkR6T",
        "colab_type": "code",
        "outputId": "1f21cf10-0171-480c-f554-a112c7795935",
        "colab": {
          "base_uri": "https://localhost:8080/",
          "height": 269
        }
      },
      "source": [
        "test_pred_proba = DTupsampled.predict_proba(X_test)[::,1]\n",
        "fpr, tpr, _ = metrics.roc_curve(y_test,  test_pred_proba)\n",
        "auc = metrics.roc_auc_score(y_test, test_pred_proba)\n",
        "plt.plot(fpr,tpr,label=\"data 1, auc=\"+str(auc))\n",
        "plt.legend(loc=4)\n",
        "plt.show()"
      ],
      "execution_count": 0,
      "outputs": [
        {
          "output_type": "display_data",
          "data": {
            "image/png": "[encoded data removed]",
            "text/plain": [
              "<Figure size 432x288 with 1 Axes>"
            ]
          },
          "metadata": {
            "tags": []
          }
        }
      ]
    },
    {
      "cell_type": "code",
      "metadata": {
        "id": "UvPJnsbtKJ8U",
        "colab_type": "code",
        "colab": {}
      },
      "source": [
        "\n",
        "from scipy.stats import randint \n",
        "param_DT = {\"max_depth\": [3, None], \n",
        "              \"max_features\": list(range(1, 9)), \n",
        "              \"min_samples_leaf\": list(range(1, 9)), \n",
        "              \"criterion\": [\"gini\", \"entropy\"]} "
      ],
      "execution_count": 0,
      "outputs": []
    },
    {
      "cell_type": "code",
      "metadata": {
        "id": "8necSU7cKKIX",
        "colab_type": "code",
        "colab": {}
      },
      "source": [
        "gs_dt_upsampling=GridSearchCV(DT2,param_DT,\n",
        "                    scoring='roc_auc',\n",
        "                    n_jobs=-1)"
      ],
      "execution_count": 0,
      "outputs": []
    },
    {
      "cell_type": "code",
      "metadata": {
        "id": "u7NhD5_OKKO0",
        "colab_type": "code",
        "outputId": "a413a51a-d388-4091-f330-ea5f09c71223",
        "colab": {
          "base_uri": "https://localhost:8080/",
          "height": 419
        }
      },
      "source": [
        "gs_dt_upsampling.fit(x_train_upsampled,y_train_upsampled)"
      ],
      "execution_count": 0,
      "outputs": [
        {
          "output_type": "stream",
          "text": [
            "/usr/local/lib/python3.6/dist-packages/sklearn/model_selection/_split.py:1978: FutureWarning: The default value of cv will change from 3 to 5 in version 0.22. Specify it explicitly to silence this warning.\n",
            "  warnings.warn(CV_WARNING, FutureWarning)\n"
          ],
          "name": "stderr"
        },
        {
          "output_type": "execute_result",
          "data": {
            "text/plain": [
              "GridSearchCV(cv='warn', error_score='raise-deprecating',\n",
              "             estimator=DecisionTreeClassifier(class_weight='balanced',\n",
              "                                              criterion='gini', max_depth=None,\n",
              "                                              max_features=None,\n",
              "                                              max_leaf_nodes=None,\n",
              "                                              min_impurity_decrease=0.0,\n",
              "                                              min_impurity_split=None,\n",
              "                                              min_samples_leaf=1,\n",
              "                                              min_samples_split=2,\n",
              "                                              min_weight_fraction_leaf=0.0,\n",
              "                                              presort=False, random_state=None,\n",
              "                                              splitter='best'),\n",
              "             iid='warn', n_jobs=-1,\n",
              "             param_grid={'criterion': ['gini', 'entropy'],\n",
              "                         'max_depth': [3, None],\n",
              "                         'max_features': [1, 2, 3, 4, 5, 6, 7, 8],\n",
              "                         'min_samples_leaf': [1, 2, 3, 4, 5, 6, 7, 8]},\n",
              "             pre_dispatch='2*n_jobs', refit=True, return_train_score=False,\n",
              "             scoring='roc_auc', verbose=0)"
            ]
          },
          "metadata": {
            "tags": []
          },
          "execution_count": 92
        }
      ]
    },
    {
      "cell_type": "code",
      "metadata": {
        "id": "tYQcmh4iKKWT",
        "colab_type": "code",
        "outputId": "bcafd962-806c-41b9-d47e-8500bb8647f0",
        "colab": {
          "base_uri": "https://localhost:8080/",
          "height": 54
        }
      },
      "source": [
        "print(\"Best auc on training set:\",gs_dt_upsampling.best_score_)\n",
        "print('Best auc on test set:',gs_dt_upsampling.score(X_test,y_test))"
      ],
      "execution_count": 0,
      "outputs": [
        {
          "output_type": "stream",
          "text": [
            "Best auc on training set: 0.8711128416273326\n",
            "Best auc on test set: 0.6125578371325552\n"
          ],
          "name": "stdout"
        }
      ]
    },
    {
      "cell_type": "code",
      "metadata": {
        "id": "MMtXxnexubzq",
        "colab_type": "code",
        "colab": {}
      },
      "source": [
        ""
      ],
      "execution_count": 0,
      "outputs": []
    },
    {
      "cell_type": "markdown",
      "metadata": {
        "id": "PzfNM3ntjQDi",
        "colab_type": "text"
      },
      "source": [
        "## Random forest with upsampling"
      ]
    },
    {
      "cell_type": "code",
      "metadata": {
        "id": "sSHTINoHjQDj",
        "colab_type": "code",
        "outputId": "304afd7c-1d9c-4532-8511-dc1add1fd761",
        "colab": {
          "base_uri": "https://localhost:8080/",
          "height": 181
        }
      },
      "source": [
        "rf=RandomForestClassifier(bootstrap= False, criterion = 'gini', n_estimators= 500)\n",
        "rf2=rf.fit(x_train_upsampled,y_train_upsampled)\n",
        "predyrf2=rf2.predict(X_test)\n",
        "print(classification_report(y_test,predyrf2))"
      ],
      "execution_count": 0,
      "outputs": [
        {
          "output_type": "stream",
          "text": [
            "              precision    recall  f1-score   support\n",
            "\n",
            "           0       0.83      0.95      0.89      7009\n",
            "           1       0.65      0.33      0.44      1991\n",
            "\n",
            "    accuracy                           0.81      9000\n",
            "   macro avg       0.74      0.64      0.66      9000\n",
            "weighted avg       0.79      0.81      0.79      9000\n",
            "\n"
          ],
          "name": "stdout"
        }
      ]
    },
    {
      "cell_type": "code",
      "metadata": {
        "id": "BmNH2AWnkpAU",
        "colab_type": "code",
        "outputId": "3fcaed25-3de3-484d-fd2a-e79198fbc22d",
        "colab": {
          "base_uri": "https://localhost:8080/",
          "height": 269
        }
      },
      "source": [
        "test_pred_proba = rf.predict_proba(X_test)[::,1]\n",
        "fpr, tpr, _ = metrics.roc_curve(y_test,  test_pred_proba)\n",
        "auc = metrics.roc_auc_score(y_test, test_pred_proba)\n",
        "plt.plot(fpr,tpr,label=\"data 1, auc=\"+str(auc))\n",
        "plt.legend(loc=4)\n",
        "plt.show()"
      ],
      "execution_count": 0,
      "outputs": [
        {
          "output_type": "display_data",
          "data": {
            "image/png": "[encoded data removed]",
            "text/plain": [
              "<Figure size 432x288 with 1 Axes>"
            ]
          },
          "metadata": {
            "tags": []
          }
        }
      ]
    },
    {
      "cell_type": "markdown",
      "metadata": {
        "id": "C8qIkBz5RYYZ",
        "colab_type": "text"
      },
      "source": [
        "Random Forest with grid search cv"
      ]
    },
    {
      "cell_type": "markdown",
      "metadata": {
        "id": "b86J1ThQQuVe",
        "colab_type": "text"
      },
      "source": [
        "classifier = RandomForestClassifier(n_estimators=300, random_state=0)\n",
        "grid_param = {\n",
        "    'n_estimators': [100, 300, 500],\n",
        "    'criterion': ['gini', 'entropy'],\n",
        "    'bootstrap': [True, False]\n",
        "}\n",
        "gd_sr = GridSearchCV(estimator=classifier,\n",
        "                     param_grid=grid_param,\n",
        "                     scoring='accuracy',\n",
        "                     cv=5)\n",
        "gd_sr.fit(x_train_upsampled,y_train_upsampled)\n",
        "best_parameters = gd_sr.best_params_\n",
        "print(best_parameters)\n"
      ]
    },
    {
      "cell_type": "markdown",
      "metadata": {
        "colab_type": "text",
        "id": "9Pomt-WvHrMb"
      },
      "source": [
        "## Smote technique:"
      ]
    },
    {
      "cell_type": "code",
      "metadata": {
        "id": "N-XU1DXojQDk",
        "colab_type": "code",
        "colab": {}
      },
      "source": [
        "X=df.drop(\"default\",axis=1)\n",
        "y=df.default"
      ],
      "execution_count": 0,
      "outputs": []
    },
    {
      "cell_type": "code",
      "metadata": {
        "id": "BKAIRarOvHU7",
        "colab_type": "code",
        "outputId": "d37501c6-3a65-4b84-ddff-5e3338d2d4bd",
        "colab": {
          "base_uri": "https://localhost:8080/",
          "height": 35
        }
      },
      "source": [
        "X.shape"
      ],
      "execution_count": 0,
      "outputs": [
        {
          "output_type": "execute_result",
          "data": {
            "text/plain": [
              "(30000, 32)"
            ]
          },
          "metadata": {
            "tags": []
          },
          "execution_count": 96
        }
      ]
    },
    {
      "cell_type": "code",
      "metadata": {
        "id": "vFRRJOzvjQDn",
        "colab_type": "code",
        "outputId": "5fa771f8-ccc4-4732-b43f-33659f67b72f",
        "colab": {
          "base_uri": "https://localhost:8080/",
          "height": 74
        }
      },
      "source": [
        "from imblearn.over_sampling import SMOTE"
      ],
      "execution_count": 0,
      "outputs": [
        {
          "output_type": "stream",
          "text": [
            "/usr/local/lib/python3.6/dist-packages/sklearn/externals/six.py:31: DeprecationWarning: The module is deprecated in version 0.21 and will be removed in version 0.23 since we've dropped support for Python 2.7. Please rely on the official version of six (https://pypi.org/project/six/).\n",
            "  \"(https://pypi.org/project/six/).\", DeprecationWarning)\n"
          ],
          "name": "stderr"
        }
      ]
    },
    {
      "cell_type": "code",
      "metadata": {
        "id": "bWpZXP657h-8",
        "colab_type": "code",
        "colab": {}
      },
      "source": [
        "def makeOverSamplesSMOTE(X,y):\n",
        "    X_train=X\n",
        "    y_train=y\n",
        "    sm = SMOTE(random_state=1234)\n",
        "    X, y = sm.fit_sample(X_train, y_train)\n",
        "    return X,y"
      ],
      "execution_count": 0,
      "outputs": []
    },
    {
      "cell_type": "code",
      "metadata": {
        "id": "YNsgkIisxkw2",
        "colab_type": "code",
        "colab": {}
      },
      "source": [
        "xsmote,ysmote = makeOverSamplesSMOTE(X_train,y_train)"
      ],
      "execution_count": 0,
      "outputs": []
    },
    {
      "cell_type": "code",
      "metadata": {
        "id": "j26SvJbxvb4S",
        "colab_type": "code",
        "outputId": "6641b0d1-2db5-417d-ef13-9e9b307ff97c",
        "colab": {
          "base_uri": "https://localhost:8080/",
          "height": 35
        }
      },
      "source": [
        "xsmote.shape,ysmote.shape"
      ],
      "execution_count": 0,
      "outputs": [
        {
          "output_type": "execute_result",
          "data": {
            "text/plain": [
              "((32710, 32), (32710,))"
            ]
          },
          "metadata": {
            "tags": []
          },
          "execution_count": 100
        }
      ]
    },
    {
      "cell_type": "markdown",
      "metadata": {
        "id": "hNhn3SaeOwK-",
        "colab_type": "text"
      },
      "source": [
        "## LogisticRegression with Smote"
      ]
    },
    {
      "cell_type": "code",
      "metadata": {
        "id": "Dx7OcRAjjQDx",
        "colab_type": "code",
        "colab": {}
      },
      "source": [
        "lr_smote=LogisticRegression()"
      ],
      "execution_count": 0,
      "outputs": []
    },
    {
      "cell_type": "code",
      "metadata": {
        "id": "fUUljVD7jQD1",
        "colab_type": "code",
        "outputId": "2d0eef56-db87-467c-ec6c-eb98649c3b6c",
        "colab": {
          "base_uri": "https://localhost:8080/",
          "height": 74
        }
      },
      "source": [
        "model3=lr_smote.fit(xsmote,ysmote)"
      ],
      "execution_count": 0,
      "outputs": [
        {
          "output_type": "stream",
          "text": [
            "/usr/local/lib/python3.6/dist-packages/sklearn/linear_model/logistic.py:432: FutureWarning: Default solver will be changed to 'lbfgs' in 0.22. Specify a solver to silence this warning.\n",
            "  FutureWarning)\n"
          ],
          "name": "stderr"
        }
      ]
    },
    {
      "cell_type": "code",
      "metadata": {
        "id": "eFkwkVyQjQD2",
        "colab_type": "code",
        "colab": {}
      },
      "source": [
        "pred_y3 = model3.predict(X_test)"
      ],
      "execution_count": 0,
      "outputs": []
    },
    {
      "cell_type": "code",
      "metadata": {
        "id": "qkcsQAeRjQD4",
        "colab_type": "code",
        "outputId": "3876b102-b004-41f2-98a1-efce5bb9191d",
        "colab": {
          "base_uri": "https://localhost:8080/",
          "height": 181
        }
      },
      "source": [
        "print(classification_report(y_test,pred_y3))"
      ],
      "execution_count": 0,
      "outputs": [
        {
          "output_type": "stream",
          "text": [
            "              precision    recall  f1-score   support\n",
            "\n",
            "           0       0.87      0.51      0.64      7009\n",
            "           1       0.30      0.73      0.42      1991\n",
            "\n",
            "    accuracy                           0.56      9000\n",
            "   macro avg       0.58      0.62      0.53      9000\n",
            "weighted avg       0.74      0.56      0.59      9000\n",
            "\n"
          ],
          "name": "stdout"
        }
      ]
    },
    {
      "cell_type": "code",
      "metadata": {
        "id": "H0zrerJikwLZ",
        "colab_type": "code",
        "outputId": "1a7217aa-a2ed-4d1c-a8a7-3d8ee353f6f4",
        "colab": {
          "base_uri": "https://localhost:8080/",
          "height": 269
        }
      },
      "source": [
        "test_pred_proba = model3.predict_proba(X_test)[::,1]\n",
        "fpr, tpr, _ = metrics.roc_curve(y_test,  test_pred_proba)\n",
        "auc = metrics.roc_auc_score(y_test, test_pred_proba)\n",
        "plt.plot(fpr,tpr,label=\"data 1, auc=\"+str(auc))\n",
        "plt.legend(loc=4)\n",
        "plt.show()"
      ],
      "execution_count": 0,
      "outputs": [
        {
          "output_type": "display_data",
          "data": {
            "image/png": "[encoded data removed]",
            "text/plain": [
              "<Figure size 432x288 with 1 Axes>"
            ]
          },
          "metadata": {
            "tags": []
          }
        }
      ]
    },
    {
      "cell_type": "markdown",
      "metadata": {
        "id": "hHg--5VQjQD7",
        "colab_type": "text"
      },
      "source": [
        "## Decision Tree with Smote"
      ]
    },
    {
      "cell_type": "code",
      "metadata": {
        "id": "wj6ky2ByjQD7",
        "colab_type": "code",
        "outputId": "07f78cb6-1455-4217-af40-aea67d093332",
        "colab": {
          "base_uri": "https://localhost:8080/",
          "height": 181
        }
      },
      "source": [
        "DT_smote=DT2.fit(xsmote,ysmote)\n",
        "predydt4=DT_smote.predict(X_test)\n",
        "print(classification_report(y_test,predydt4))"
      ],
      "execution_count": 0,
      "outputs": [
        {
          "output_type": "stream",
          "text": [
            "              precision    recall  f1-score   support\n",
            "\n",
            "           0       0.83      0.78      0.81      7009\n",
            "           1       0.37      0.44      0.40      1991\n",
            "\n",
            "    accuracy                           0.71      9000\n",
            "   macro avg       0.60      0.61      0.60      9000\n",
            "weighted avg       0.73      0.71      0.72      9000\n",
            "\n"
          ],
          "name": "stdout"
        }
      ]
    },
    {
      "cell_type": "code",
      "metadata": {
        "id": "iFRbbL2ck-Tf",
        "colab_type": "code",
        "outputId": "1f5b08af-55b4-4efe-a710-a39f34e12222",
        "colab": {
          "base_uri": "https://localhost:8080/",
          "height": 269
        }
      },
      "source": [
        "test_pred_proba = DT_smote.predict_proba(X_test)[::,1]\n",
        "fpr, tpr, _ = metrics.roc_curve(y_test,  test_pred_proba)\n",
        "auc = metrics.roc_auc_score(y_test, test_pred_proba)\n",
        "plt.plot(fpr,tpr,label=\"data 1, auc=\"+str(auc))\n",
        "plt.legend(loc=4)\n",
        "plt.show()"
      ],
      "execution_count": 0,
      "outputs": [
        {
          "output_type": "display_data",
          "data": {
            "image/png": "[encoded data removed]",
            "text/plain": [
              "<Figure size 432x288 with 1 Axes>"
            ]
          },
          "metadata": {
            "tags": []
          }
        }
      ]
    },
    {
      "cell_type": "markdown",
      "metadata": {
        "id": "2qRv9yQnjQD9",
        "colab_type": "text"
      },
      "source": [
        "## Random Forest with Smote"
      ]
    },
    {
      "cell_type": "code",
      "metadata": {
        "id": "Gn8zTJmQjQD9",
        "colab_type": "code",
        "outputId": "1af8f19b-11f0-4fff-afca-c2efa39acd30",
        "colab": {
          "base_uri": "https://localhost:8080/",
          "height": 181
        }
      },
      "source": [
        "rf_smote=rf.fit(xsmote,ysmote)\n",
        "predyrf3=rf_smote.predict(X_test)\n",
        "print(classification_report(y_test,predyrf3))"
      ],
      "execution_count": 0,
      "outputs": [
        {
          "output_type": "stream",
          "text": [
            "              precision    recall  f1-score   support\n",
            "\n",
            "           0       0.84      0.91      0.88      7009\n",
            "           1       0.57      0.41      0.48      1991\n",
            "\n",
            "    accuracy                           0.80      9000\n",
            "   macro avg       0.71      0.66      0.68      9000\n",
            "weighted avg       0.78      0.80      0.79      9000\n",
            "\n"
          ],
          "name": "stdout"
        }
      ]
    },
    {
      "cell_type": "code",
      "metadata": {
        "id": "9uOOlt8WlI7c",
        "colab_type": "code",
        "outputId": "3781e670-2ee7-4598-a53b-890ec48bfa90",
        "colab": {
          "base_uri": "https://localhost:8080/",
          "height": 269
        }
      },
      "source": [
        "test_pred_proba = rf_smote.predict_proba(X_test)[::,1]\n",
        "fpr, tpr, _ = metrics.roc_curve(y_test,  test_pred_proba)\n",
        "auc = metrics.roc_auc_score(y_test, test_pred_proba)\n",
        "plt.plot(fpr,tpr,label=\"data 1, auc=\"+str(auc))\n",
        "plt.legend(loc=4)\n",
        "plt.show()"
      ],
      "execution_count": 0,
      "outputs": [
        {
          "output_type": "display_data",
          "data": {
            "image/png": "[encoded data removed]",
            "text/plain": [
              "<Figure size 432x288 with 1 Axes>"
            ]
          },
          "metadata": {
            "tags": []
          }
        }
      ]
    },
    {
      "cell_type": "markdown",
      "metadata": {
        "colab_type": "text",
        "id": "S8sawZqyKkPx"
      },
      "source": [
        "## ADASYN "
      ]
    },
    {
      "cell_type": "code",
      "metadata": {
        "id": "ZtcUficsjQD_",
        "colab_type": "code",
        "colab": {}
      },
      "source": [
        "from imblearn.over_sampling import ADASYN"
      ],
      "execution_count": 0,
      "outputs": []
    },
    {
      "cell_type": "code",
      "metadata": {
        "colab_type": "code",
        "id": "TN2ZV0iYIrXk",
        "colab": {}
      },
      "source": [
        "def makeOverSamplesADASYN(X_train1,y_train1):\n",
        "  \n",
        "  X = X_train\n",
        "  y = y_train\n",
        "  sm = ADASYN(random_state=1234)\n",
        "  X, y = sm.fit_sample(X, y)\n",
        "  return X,y"
      ],
      "execution_count": 0,
      "outputs": []
    },
    {
      "cell_type": "code",
      "metadata": {
        "id": "z2dN19Lw-BMX",
        "colab_type": "code",
        "outputId": "6dce0646-d330-4f1c-ee0b-93855a0e02dd",
        "colab": {
          "base_uri": "https://localhost:8080/",
          "height": 35
        }
      },
      "source": [
        "X_train.shape,y_train.shape"
      ],
      "execution_count": 0,
      "outputs": [
        {
          "output_type": "execute_result",
          "data": {
            "text/plain": [
              "((21000, 32), (21000,))"
            ]
          },
          "metadata": {
            "tags": []
          },
          "execution_count": 126
        }
      ]
    },
    {
      "cell_type": "code",
      "metadata": {
        "id": "llEeh_SmjQED",
        "colab_type": "code",
        "colab": {}
      },
      "source": [
        "XADASYN,yADASYN = makeOverSamplesADASYN(X_train,y_train)"
      ],
      "execution_count": 0,
      "outputs": []
    },
    {
      "cell_type": "code",
      "metadata": {
        "id": "ixcsdJFrzJA9",
        "colab_type": "code",
        "outputId": "160e2bfd-ed01-44a1-bbec-0951469105ba",
        "colab": {
          "base_uri": "https://localhost:8080/",
          "height": 35
        }
      },
      "source": [
        "XADASYN.shape,yADASYN.shape"
      ],
      "execution_count": 0,
      "outputs": [
        {
          "output_type": "execute_result",
          "data": {
            "text/plain": [
              "((33099, 32), (33099,))"
            ]
          },
          "metadata": {
            "tags": []
          },
          "execution_count": 128
        }
      ]
    },
    {
      "cell_type": "markdown",
      "metadata": {
        "id": "Do0HMXuLPDnw",
        "colab_type": "text"
      },
      "source": [
        "## LogisticRegression with ADASYN"
      ]
    },
    {
      "cell_type": "code",
      "metadata": {
        "colab_type": "code",
        "id": "1Jk4kYXWLHZo",
        "outputId": "199712b4-e389-42f3-ecf6-68076479b02d",
        "colab": {
          "base_uri": "https://localhost:8080/",
          "height": 237
        }
      },
      "source": [
        "logAdasyn = LogisticRegression().fit(XADASYN,yADASYN)\n",
        "pred_y4 = logAdasyn.predict(X_test)\n",
        "print(classification_report(y_test,pred_y4))\n"
      ],
      "execution_count": 0,
      "outputs": [
        {
          "output_type": "stream",
          "text": [
            "/usr/local/lib/python3.6/dist-packages/sklearn/linear_model/logistic.py:432: FutureWarning: Default solver will be changed to 'lbfgs' in 0.22. Specify a solver to silence this warning.\n",
            "  FutureWarning)\n"
          ],
          "name": "stderr"
        },
        {
          "output_type": "stream",
          "text": [
            "              precision    recall  f1-score   support\n",
            "\n",
            "           0       0.87      0.49      0.63      7009\n",
            "           1       0.29      0.74      0.42      1991\n",
            "\n",
            "    accuracy                           0.55      9000\n",
            "   macro avg       0.58      0.61      0.52      9000\n",
            "weighted avg       0.74      0.55      0.58      9000\n",
            "\n"
          ],
          "name": "stdout"
        }
      ]
    },
    {
      "cell_type": "code",
      "metadata": {
        "id": "xk0EXb1xlevq",
        "colab_type": "code",
        "outputId": "c94e6f32-7171-4c52-e1f8-31f4145a9190",
        "colab": {
          "base_uri": "https://localhost:8080/",
          "height": 269
        }
      },
      "source": [
        "test_pred_proba = logAdasyn.predict_proba(X_test)[::,1]\n",
        "fpr, tpr, _ = metrics.roc_curve(y_test,  test_pred_proba)\n",
        "auc = metrics.roc_auc_score(y_test, test_pred_proba)\n",
        "plt.plot(fpr,tpr,label=\"data 1, auc=\"+str(auc))\n",
        "plt.legend(loc=4)\n",
        "plt.show()"
      ],
      "execution_count": 0,
      "outputs": [
        {
          "output_type": "display_data",
          "data": {
            "image/png": "[encoded data removed]",
            "text/plain": [
              "<Figure size 432x288 with 1 Axes>"
            ]
          },
          "metadata": {
            "tags": []
          }
        }
      ]
    },
    {
      "cell_type": "markdown",
      "metadata": {
        "id": "pW05YsiCjQEH",
        "colab_type": "text"
      },
      "source": [
        "## Decision Tree with ADASYN"
      ]
    },
    {
      "cell_type": "code",
      "metadata": {
        "colab_type": "code",
        "id": "0nWsEPDdLUdI",
        "outputId": "209a9dfd-5faf-4355-d2fa-72fe87f8f2bb",
        "colab": {
          "base_uri": "https://localhost:8080/",
          "height": 181
        }
      },
      "source": [
        "DT_adasyn=DT2.fit(XADASYN,yADASYN)\n",
        "predydt5=DT_adasyn.predict(X_test)\n",
        "print(classification_report(y_test,predydt5))"
      ],
      "execution_count": 0,
      "outputs": [
        {
          "output_type": "stream",
          "text": [
            "              precision    recall  f1-score   support\n",
            "\n",
            "           0       0.83      0.79      0.81      7009\n",
            "           1       0.37      0.42      0.39      1991\n",
            "\n",
            "    accuracy                           0.71      9000\n",
            "   macro avg       0.60      0.61      0.60      9000\n",
            "weighted avg       0.73      0.71      0.72      9000\n",
            "\n"
          ],
          "name": "stdout"
        }
      ]
    },
    {
      "cell_type": "code",
      "metadata": {
        "id": "ixIag3FalofQ",
        "colab_type": "code",
        "outputId": "d71c10ec-168f-44b6-8bd3-d67585878e85",
        "colab": {
          "base_uri": "https://localhost:8080/",
          "height": 269
        }
      },
      "source": [
        "test_pred_proba = DT_adasyn.predict_proba(X_test)[::,1]\n",
        "fpr, tpr, _ = metrics.roc_curve(y_test,  test_pred_proba)\n",
        "auc = metrics.roc_auc_score(y_test, test_pred_proba)\n",
        "plt.plot(fpr,tpr,label=\"data 1, auc=\"+str(auc))\n",
        "plt.legend(loc=4)\n",
        "plt.show()"
      ],
      "execution_count": 0,
      "outputs": [
        {
          "output_type": "display_data",
          "data": {
            "image/png": "[encoded data removed]",
            "text/plain": [
              "<Figure size 432x288 with 1 Axes>"
            ]
          },
          "metadata": {
            "tags": []
          }
        }
      ]
    },
    {
      "cell_type": "markdown",
      "metadata": {
        "id": "ddD9TIlPPTnl",
        "colab_type": "text"
      },
      "source": [
        "## Random Forest with ADASYN"
      ]
    },
    {
      "cell_type": "code",
      "metadata": {
        "id": "U7cPQ-61jQEQ",
        "colab_type": "code",
        "outputId": "cb5c592f-93fe-4f64-c6b0-4ca3ced47cc8",
        "colab": {
          "base_uri": "https://localhost:8080/",
          "height": 181
        }
      },
      "source": [
        "rf_adasyn=rf.fit(XADASYN,yADASYN)\n",
        "predydt4=rf_adasyn.predict(X_test)\n",
        "print(classification_report(y_test,predydt4))"
      ],
      "execution_count": 0,
      "outputs": [
        {
          "output_type": "stream",
          "text": [
            "              precision    recall  f1-score   support\n",
            "\n",
            "           0       0.84      0.91      0.88      7009\n",
            "           1       0.56      0.41      0.48      1991\n",
            "\n",
            "    accuracy                           0.80      9000\n",
            "   macro avg       0.70      0.66      0.68      9000\n",
            "weighted avg       0.78      0.80      0.79      9000\n",
            "\n"
          ],
          "name": "stdout"
        }
      ]
    },
    {
      "cell_type": "code",
      "metadata": {
        "id": "svP9qJiilxLj",
        "colab_type": "code",
        "outputId": "4266da99-d4c7-45b6-c7c5-3cded4b44616",
        "colab": {
          "base_uri": "https://localhost:8080/",
          "height": 269
        }
      },
      "source": [
        "test_pred_proba = rf_adasyn.predict_proba(X_test)[::,1]\n",
        "fpr, tpr, _ = metrics.roc_curve(y_test,  test_pred_proba)\n",
        "auc = metrics.roc_auc_score(y_test, test_pred_proba)\n",
        "plt.plot(fpr,tpr,label=\"data 1, auc=\"+str(auc))\n",
        "plt.legend(loc=4)\n",
        "plt.show()"
      ],
      "execution_count": 0,
      "outputs": [
        {
          "output_type": "display_data",
          "data": {
            "image/png": "[encoded data removed]",
            "text/plain": [
              "<Figure size 432x288 with 1 Axes>"
            ]
          },
          "metadata": {
            "tags": []
          }
        }
      ]
    },
    {
      "cell_type": "markdown",
      "metadata": {
        "id": "b-Xp4SGIPf3M",
        "colab_type": "text"
      },
      "source": [
        "## SMOTEENN,SMOTETomek"
      ]
    },
    {
      "cell_type": "code",
      "metadata": {
        "id": "Pn4iJV14m7Iw",
        "colab_type": "code",
        "colab": {}
      },
      "source": [
        "from imblearn.combine import SMOTEENN,SMOTETomek"
      ],
      "execution_count": 0,
      "outputs": []
    },
    {
      "cell_type": "code",
      "metadata": {
        "id": "EoOVkAcFnK78",
        "colab_type": "code",
        "colab": {}
      },
      "source": [
        "def makeOverSamplesSmoteenn(X,y):\n",
        "  \n",
        "  X = X_train\n",
        "  y = y_train\n",
        "  sm = SMOTEENN(random_state=123)\n",
        "  X, y = sm.fit_sample(X, y)\n",
        "  return X,y"
      ],
      "execution_count": 0,
      "outputs": []
    },
    {
      "cell_type": "code",
      "metadata": {
        "id": "r_ASeDrCn6rZ",
        "colab_type": "code",
        "colab": {}
      },
      "source": [
        "XSmoteenn,ySmoteenn = makeOverSamplesSmoteenn(X,y)\n"
      ],
      "execution_count": 0,
      "outputs": []
    },
    {
      "cell_type": "markdown",
      "metadata": {
        "id": "RQPlQIblqSVe",
        "colab_type": "text"
      },
      "source": [
        "## Logistic Regression with Smoteenn"
      ]
    },
    {
      "cell_type": "code",
      "metadata": {
        "id": "dDvMHiYMoS27",
        "colab_type": "code",
        "outputId": "29d31ee6-6831-4e83-fe65-67fb633ab6f3",
        "colab": {
          "base_uri": "https://localhost:8080/",
          "height": 237
        }
      },
      "source": [
        "logSmoteenn = LogisticRegression().fit(XSmoteenn,ySmoteenn)\n",
        "pred_y5 = logSmoteenn.predict(X_test)\n",
        "print(classification_report(y_test,pred_y5))\n"
      ],
      "execution_count": 0,
      "outputs": [
        {
          "output_type": "stream",
          "text": [
            "/usr/local/lib/python3.6/dist-packages/sklearn/linear_model/logistic.py:432: FutureWarning: Default solver will be changed to 'lbfgs' in 0.22. Specify a solver to silence this warning.\n",
            "  FutureWarning)\n"
          ],
          "name": "stderr"
        },
        {
          "output_type": "stream",
          "text": [
            "              precision    recall  f1-score   support\n",
            "\n",
            "           0       0.89      0.35      0.50      7009\n",
            "           1       0.27      0.85      0.41      1991\n",
            "\n",
            "    accuracy                           0.46      9000\n",
            "   macro avg       0.58      0.60      0.46      9000\n",
            "weighted avg       0.76      0.46      0.48      9000\n",
            "\n"
          ],
          "name": "stdout"
        }
      ]
    },
    {
      "cell_type": "code",
      "metadata": {
        "id": "ZvDExdt_l3z-",
        "colab_type": "code",
        "outputId": "9943d503-1687-4134-83db-e9cef15fafc2",
        "colab": {
          "base_uri": "https://localhost:8080/",
          "height": 269
        }
      },
      "source": [
        "test_pred_proba = logSmoteenn.predict_proba(X_test)[::,1]\n",
        "fpr, tpr, _ = metrics.roc_curve(y_test,  test_pred_proba)\n",
        "auc = metrics.roc_auc_score(y_test, test_pred_proba)\n",
        "plt.plot(fpr,tpr,label=\"data 1, auc=\"+str(auc))\n",
        "plt.legend(loc=4)\n",
        "plt.show()"
      ],
      "execution_count": 0,
      "outputs": [
        {
          "output_type": "display_data",
          "data": {
            "image/png": "[encoded data removed]",
            "text/plain": [
              "<Figure size 432x288 with 1 Axes>"
            ]
          },
          "metadata": {
            "tags": []
          }
        }
      ]
    },
    {
      "cell_type": "markdown",
      "metadata": {
        "id": "_L1QBwwLqKp-",
        "colab_type": "text"
      },
      "source": [
        "## Decision tree with Smoteenn"
      ]
    },
    {
      "cell_type": "code",
      "metadata": {
        "id": "iEbusKEPojNx",
        "colab_type": "code",
        "outputId": "973d4450-1111-4bf7-83a9-ebccba484dfd",
        "colab": {
          "base_uri": "https://localhost:8080/",
          "height": 181
        }
      },
      "source": [
        "DT_logSmoteenn=DT2.fit(XSmoteenn,ySmoteenn)\n",
        "predydt5=DT_logSmoteenn.predict(X_test)\n",
        "print(classification_report(y_test,predydt5))"
      ],
      "execution_count": 0,
      "outputs": [
        {
          "output_type": "stream",
          "text": [
            "              precision    recall  f1-score   support\n",
            "\n",
            "           0       0.86      0.68      0.76      7009\n",
            "           1       0.35      0.60      0.44      1991\n",
            "\n",
            "    accuracy                           0.66      9000\n",
            "   macro avg       0.60      0.64      0.60      9000\n",
            "weighted avg       0.74      0.66      0.69      9000\n",
            "\n"
          ],
          "name": "stdout"
        }
      ]
    },
    {
      "cell_type": "code",
      "metadata": {
        "id": "NFzA05lXl-P4",
        "colab_type": "code",
        "outputId": "d12c8065-8bf3-4dd3-ddf7-944da610173b",
        "colab": {
          "base_uri": "https://localhost:8080/",
          "height": 269
        }
      },
      "source": [
        "test_pred_proba = DT_logSmoteenn.predict_proba(X_test)[::,1]\n",
        "fpr, tpr, _ = metrics.roc_curve(y_test,  test_pred_proba)\n",
        "auc = metrics.roc_auc_score(y_test, test_pred_proba)\n",
        "plt.plot(fpr,tpr,label=\"data 1, auc=\"+str(auc))\n",
        "plt.legend(loc=4)\n",
        "plt.show()"
      ],
      "execution_count": 0,
      "outputs": [
        {
          "output_type": "display_data",
          "data": {
            "image/png": "[encoded data removed]",
            "text/plain": [
              "<Figure size 432x288 with 1 Axes>"
            ]
          },
          "metadata": {
            "tags": []
          }
        }
      ]
    },
    {
      "cell_type": "markdown",
      "metadata": {
        "id": "TsBvCi6JqYma",
        "colab_type": "text"
      },
      "source": [
        "## Random Forest with Smoteenn"
      ]
    },
    {
      "cell_type": "code",
      "metadata": {
        "id": "XCDduMtppcpH",
        "colab_type": "code",
        "outputId": "b848decd-f7e8-4aa3-a401-b8f8f28bb079",
        "colab": {
          "base_uri": "https://localhost:8080/",
          "height": 181
        }
      },
      "source": [
        "rf_logSmoteenn=rf.fit(XSmoteenn,ySmoteenn)\n",
        "predyrf5=rf_logSmoteenn.predict(X_test)\n",
        "print(classification_report(y_test,predyrf5))"
      ],
      "execution_count": 0,
      "outputs": [
        {
          "output_type": "stream",
          "text": [
            "              precision    recall  f1-score   support\n",
            "\n",
            "           0       0.88      0.80      0.84      7009\n",
            "           1       0.46      0.60      0.52      1991\n",
            "\n",
            "    accuracy                           0.76      9000\n",
            "   macro avg       0.67      0.70      0.68      9000\n",
            "weighted avg       0.78      0.76      0.77      9000\n",
            "\n"
          ],
          "name": "stdout"
        }
      ]
    },
    {
      "cell_type": "code",
      "metadata": {
        "id": "RS_o1tjPmGAm",
        "colab_type": "code",
        "outputId": "62ebb057-582e-48ee-baa8-2e2234b04748",
        "colab": {
          "base_uri": "https://localhost:8080/",
          "height": 269
        }
      },
      "source": [
        "test_pred_proba = rf_logSmoteenn.predict_proba(X_test)[::,1]\n",
        "fpr, tpr, _ = metrics.roc_curve(y_test,  test_pred_proba)\n",
        "auc = metrics.roc_auc_score(y_test, test_pred_proba)\n",
        "plt.plot(fpr,tpr,label=\"data 1, auc=\"+str(auc))\n",
        "plt.legend(loc=4)\n",
        "plt.show()"
      ],
      "execution_count": 0,
      "outputs": [
        {
          "output_type": "display_data",
          "data": {
            "image/png": "[encoded data removed]",
            "text/plain": [
              "<Figure size 432x288 with 1 Axes>"
            ]
          },
          "metadata": {
            "tags": []
          }
        }
      ]
    },
    {
      "cell_type": "code",
      "metadata": {
        "id": "mxp0iGivp_UB",
        "colab_type": "code",
        "colab": {}
      },
      "source": [
        "def makeOverSamplesSMOTETomek(X,y):\n",
        "  \n",
        "  X = X_train\n",
        "  y = y_train\n",
        "  sm = SMOTETomek(random_state=1234)\n",
        "  X, y = sm.fit_sample(X, y)\n",
        "  return X,y"
      ],
      "execution_count": 0,
      "outputs": []
    },
    {
      "cell_type": "code",
      "metadata": {
        "id": "bIs557UgsQ5J",
        "colab_type": "code",
        "colab": {}
      },
      "source": [
        "XSMOTETomek,ySMOTETomek = makeOverSamplesSMOTETomek(X,y)"
      ],
      "execution_count": 0,
      "outputs": []
    },
    {
      "cell_type": "code",
      "metadata": {
        "id": "12b8WsSJsYar",
        "colab_type": "code",
        "outputId": "88f5766a-3db2-4616-da4f-7225ba7e0b7e",
        "colab": {
          "base_uri": "https://localhost:8080/",
          "height": 237
        }
      },
      "source": [
        "logSMOTETomek = LogisticRegression().fit(XSMOTETomek,ySMOTETomek)\n",
        "pred_y6 = logSMOTETomek.predict(X_test)\n",
        "print(classification_report(y_test,pred_y6))"
      ],
      "execution_count": 0,
      "outputs": [
        {
          "output_type": "stream",
          "text": [
            "/usr/local/lib/python3.6/dist-packages/sklearn/linear_model/logistic.py:432: FutureWarning: Default solver will be changed to 'lbfgs' in 0.22. Specify a solver to silence this warning.\n",
            "  FutureWarning)\n"
          ],
          "name": "stderr"
        },
        {
          "output_type": "stream",
          "text": [
            "              precision    recall  f1-score   support\n",
            "\n",
            "           0       0.87      0.50      0.64      7009\n",
            "           1       0.29      0.73      0.42      1991\n",
            "\n",
            "    accuracy                           0.55      9000\n",
            "   macro avg       0.58      0.62      0.53      9000\n",
            "weighted avg       0.74      0.55      0.59      9000\n",
            "\n"
          ],
          "name": "stdout"
        }
      ]
    },
    {
      "cell_type": "code",
      "metadata": {
        "id": "Be6FXlu9mOKV",
        "colab_type": "code",
        "outputId": "0cdea5fa-f81e-44e1-a317-46c74a1bde19",
        "colab": {
          "base_uri": "https://localhost:8080/",
          "height": 269
        }
      },
      "source": [
        "test_pred_proba = logSMOTETomek.predict_proba(X_test)[::,1]\n",
        "fpr, tpr, _ = metrics.roc_curve(y_test,  test_pred_proba)\n",
        "auc = metrics.roc_auc_score(y_test, test_pred_proba)\n",
        "plt.plot(fpr,tpr,label=\"data 1, auc=\"+str(auc))\n",
        "plt.legend(loc=4)\n",
        "plt.show()"
      ],
      "execution_count": 0,
      "outputs": [
        {
          "output_type": "display_data",
          "data": {
            "image/png": "[encoded data removed]",
            "text/plain": [
              "<Figure size 432x288 with 1 Axes>"
            ]
          },
          "metadata": {
            "tags": []
          }
        }
      ]
    },
    {
      "cell_type": "code",
      "metadata": {
        "id": "YtSNZTwZvNUq",
        "colab_type": "code",
        "outputId": "c02effec-90c9-4ac1-ca1c-e2f808ff2917",
        "colab": {
          "base_uri": "https://localhost:8080/",
          "height": 181
        }
      },
      "source": [
        "DT_logSMOTETomek=DT2.fit(XSMOTETomek,ySMOTETomek)\n",
        "predydt6=DT_logSMOTETomek.predict(X_test)\n",
        "print(classification_report(y_test,predydt6))"
      ],
      "execution_count": 0,
      "outputs": [
        {
          "output_type": "stream",
          "text": [
            "              precision    recall  f1-score   support\n",
            "\n",
            "           0       0.83      0.79      0.81      7009\n",
            "           1       0.36      0.41      0.38      1991\n",
            "\n",
            "    accuracy                           0.71      9000\n",
            "   macro avg       0.59      0.60      0.59      9000\n",
            "weighted avg       0.72      0.71      0.71      9000\n",
            "\n"
          ],
          "name": "stdout"
        }
      ]
    },
    {
      "cell_type": "code",
      "metadata": {
        "id": "SqNM_xwCmYDK",
        "colab_type": "code",
        "outputId": "e12b04da-c659-467a-c0c0-ee291a2232e8",
        "colab": {
          "base_uri": "https://localhost:8080/",
          "height": 269
        }
      },
      "source": [
        "test_pred_proba = DT_logSMOTETomek.predict_proba(X_test)[::,1]\n",
        "fpr, tpr, _ = metrics.roc_curve(y_test,  test_pred_proba)\n",
        "auc = metrics.roc_auc_score(y_test, test_pred_proba)\n",
        "plt.plot(fpr,tpr,label=\"data 1, auc=\"+str(auc))\n",
        "plt.legend(loc=4)\n",
        "plt.show()"
      ],
      "execution_count": 0,
      "outputs": [
        {
          "output_type": "display_data",
          "data": {
            "image/png": "[encoded data removed]",
            "text/plain": [
              "<Figure size 432x288 with 1 Axes>"
            ]
          },
          "metadata": {
            "tags": []
          }
        }
      ]
    },
    {
      "cell_type": "code",
      "metadata": {
        "id": "pyqvJWMFvkmm",
        "colab_type": "code",
        "outputId": "a5c7c741-ccd3-44a6-a0b5-a09616291bc8",
        "colab": {
          "base_uri": "https://localhost:8080/",
          "height": 181
        }
      },
      "source": [
        "rf_logSMOTETomek=rf.fit(XSMOTETomek,ySMOTETomek)\n",
        "predyrf6=rf_logSMOTETomek.predict(X_test)\n",
        "print(classification_report(y_test,predyrf6))"
      ],
      "execution_count": 0,
      "outputs": [
        {
          "output_type": "stream",
          "text": [
            "              precision    recall  f1-score   support\n",
            "\n",
            "           0       0.84      0.91      0.88      7009\n",
            "           1       0.56      0.41      0.47      1991\n",
            "\n",
            "    accuracy                           0.80      9000\n",
            "   macro avg       0.70      0.66      0.67      9000\n",
            "weighted avg       0.78      0.80      0.79      9000\n",
            "\n"
          ],
          "name": "stdout"
        }
      ]
    },
    {
      "cell_type": "code",
      "metadata": {
        "id": "hcbALkKBmd-4",
        "colab_type": "code",
        "outputId": "c8e6559b-7031-4387-e6af-d067cb8c279d",
        "colab": {
          "base_uri": "https://localhost:8080/",
          "height": 269
        }
      },
      "source": [
        "test_pred_proba = rf_logSMOTETomek.predict_proba(X_test)[::,1]\n",
        "fpr, tpr, _ = metrics.roc_curve(y_test,  test_pred_proba)\n",
        "auc = metrics.roc_auc_score(y_test, test_pred_proba)\n",
        "plt.plot(fpr,tpr,label=\"data 1, auc=\"+str(auc))\n",
        "plt.legend(loc=4)\n",
        "plt.show()"
      ],
      "execution_count": 0,
      "outputs": [
        {
          "output_type": "display_data",
          "data": {
            "image/png": "[encoded data removed]",
            "text/plain": [
              "<Figure size 432x288 with 1 Axes>"
            ]
          },
          "metadata": {
            "tags": []
          }
        }
      ]
    },
    {
      "cell_type": "markdown",
      "metadata": {
        "id": "N6s17XpCwlIm",
        "colab_type": "text"
      },
      "source": [
        "Lift gain charts"
      ]
    },
    {
      "cell_type": "code",
      "metadata": {
        "id": "uP2K24pu1BJj",
        "colab_type": "code",
        "outputId": "b25fca83-900b-4fb3-ec79-d28b8cd19870",
        "colab": {
          "base_uri": "https://localhost:8080/",
          "height": 310
        }
      },
      "source": [
        "pip install scikit-plot"
      ],
      "execution_count": 0,
      "outputs": [
        {
          "output_type": "stream",
          "text": [
            "Collecting scikit-plot\n",
            "  Downloading https://files.pythonhosted.org/packages/7c/47/32520e259340c140a4ad27c1b97050dd3254fdc517b1d59974d47037510e/scikit_plot-0.3.7-py3-none-any.whl\n",
            "Requirement already satisfied: joblib>=0.10 in /usr/local/lib/python3.6/dist-packages (from scikit-plot) (0.13.2)\n",
            "Requirement already satisfied: scikit-learn>=0.18 in /usr/local/lib/python3.6/dist-packages (from scikit-plot) (0.21.2)\n",
            "Requirement already satisfied: scipy>=0.9 in /usr/local/lib/python3.6/dist-packages (from scikit-plot) (1.3.0)\n",
            "Requirement already satisfied: matplotlib>=1.4.0 in /usr/local/lib/python3.6/dist-packages (from scikit-plot) (3.0.3)\n",
            "Requirement already satisfied: numpy>=1.11.0 in /usr/local/lib/python3.6/dist-packages (from scikit-learn>=0.18->scikit-plot) (1.16.4)\n",
            "Requirement already satisfied: pyparsing!=2.0.4,!=2.1.2,!=2.1.6,>=2.0.1 in /usr/local/lib/python3.6/dist-packages (from matplotlib>=1.4.0->scikit-plot) (2.4.0)\n",
            "Requirement already satisfied: kiwisolver>=1.0.1 in /usr/local/lib/python3.6/dist-packages (from matplotlib>=1.4.0->scikit-plot) (1.1.0)\n",
            "Requirement already satisfied: python-dateutil>=2.1 in /usr/local/lib/python3.6/dist-packages (from matplotlib>=1.4.0->scikit-plot) (2.5.3)\n",
            "Requirement already satisfied: cycler>=0.10 in /usr/local/lib/python3.6/dist-packages (from matplotlib>=1.4.0->scikit-plot) (0.10.0)\n",
            "Requirement already satisfied: setuptools in /usr/local/lib/python3.6/dist-packages (from kiwisolver>=1.0.1->matplotlib>=1.4.0->scikit-plot) (41.0.1)\n",
            "Requirement already satisfied: six>=1.5 in /usr/local/lib/python3.6/dist-packages (from python-dateutil>=2.1->matplotlib>=1.4.0->scikit-plot) (1.12.0)\n",
            "Installing collected packages: scikit-plot\n",
            "Successfully installed scikit-plot-0.3.7\n"
          ],
          "name": "stdout"
        }
      ]
    },
    {
      "cell_type": "code",
      "metadata": {
        "id": "yLsLfWC30khz",
        "colab_type": "code",
        "colab": {}
      },
      "source": [
        "import scikitplot as skplt"
      ],
      "execution_count": 0,
      "outputs": []
    },
    {
      "cell_type": "code",
      "metadata": {
        "id": "UT09KYR0v3_N",
        "colab_type": "code",
        "outputId": "0f76836b-61e4-41c2-8659-061117394fa3",
        "colab": {
          "base_uri": "https://localhost:8080/",
          "height": 406
        }
      },
      "source": [
        "lr = LogisticRegression()\n",
        "lr = lr.fit(XSMOTETomek,ySMOTETomek)\n",
        "y_probas = lr.predict_proba(X_test)\n",
        "skplt.metrics.plot_lift_curve(y_test, y_probas)\n",
        "plt.show()"
      ],
      "execution_count": 0,
      "outputs": [
        {
          "output_type": "stream",
          "text": [
            "/usr/local/lib/python3.6/dist-packages/sklearn/linear_model/logistic.py:432: FutureWarning: Default solver will be changed to 'lbfgs' in 0.22. Specify a solver to silence this warning.\n",
            "  FutureWarning)\n",
            "/usr/local/lib/python3.6/dist-packages/matplotlib/cbook/__init__.py:424: MatplotlibDeprecationWarning: \n",
            "Passing one of 'on', 'true', 'off', 'false' as a boolean is deprecated; use an actual boolean (True/False) instead.\n",
            "  warn_deprecated(\"2.2\", \"Passing one of 'on', 'true', 'off', 'false' as a \"\n"
          ],
          "name": "stderr"
        },
        {
          "output_type": "display_data",
          "data": {
            "image/png": "[encoded data removed]",
            "text/plain": [
              "<Figure size 432x288 with 1 Axes>"
            ]
          },
          "metadata": {
            "tags": []
          }
        }
      ]
    },
    {
      "cell_type": "code",
      "metadata": {
        "id": "hRlu7tgYyp4O",
        "colab_type": "code",
        "colab": {}
      },
      "source": [
        ""
      ],
      "execution_count": 0,
      "outputs": []
    },
    {
      "cell_type": "markdown",
      "metadata": {
        "id": "UtDh7lXICPSK",
        "colab_type": "text"
      },
      "source": [
        ""
      ]
    },
    {
      "cell_type": "markdown",
      "metadata": {
        "id": "nE-aeYCBCPbf",
        "colab_type": "text"
      },
      "source": [
        ""
      ]
    }
  ]
}