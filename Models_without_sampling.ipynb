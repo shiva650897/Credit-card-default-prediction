{
  "nbformat": 4,
  "nbformat_minor": 0,
  "metadata": {
    "colab": {
      "name": "Models without sampling.ipynb",
      "version": "0.3.2",
      "provenance": [],
      "include_colab_link": true
    },
    "kernelspec": {
      "name": "python3",
      "display_name": "Python 3"
    }
  },
  "cells": [
    {
      "cell_type": "markdown",
      "metadata": {
        "id": "view-in-github",
        "colab_type": "text"
      },
      "source": [
        "<a href=\"https://colab.research.google.com/github/shiva650897/Credit-card-default-prediction/blob/master/Models_without_sampling.ipynb\" target=\"_parent\"><img src=\"https://colab.research.google.com/assets/colab-badge.svg\" alt=\"Open In Colab\"/></a>"
      ]
    },
    {
      "cell_type": "markdown",
      "metadata": {
        "id": "eaW4nMlBjQBj",
        "colab_type": "text"
      },
      "source": [
        "## LR without sampling"
      ]
    },
    {
      "cell_type": "code",
      "metadata": {
        "id": "C9u4fkI0iF9u",
        "colab_type": "code",
        "colab": {}
      },
      "source": [
        "from sklearn import metrics\n",
        "from sklearn.metrics import roc_auc_score,auc"
      ],
      "execution_count": 0,
      "outputs": []
    },
    {
      "cell_type": "code",
      "metadata": {
        "id": "UQFWynjUjQBl",
        "colab_type": "code",
        "colab": {}
      },
      "source": [
        "X_unsamples=df.drop('default',axis=1)\n",
        "y_unsamples=df.default"
      ],
      "execution_count": 0,
      "outputs": []
    },
    {
      "cell_type": "code",
      "metadata": {
        "id": "lW-DoXu5jQBr",
        "colab_type": "code",
        "outputId": "2685309b-649c-4810-c081-59845158cc55",
        "colab": {
          "base_uri": "https://localhost:8080/",
          "height": 35
        }
      },
      "source": [
        "X_unsamples.shape"
      ],
      "execution_count": 0,
      "outputs": [
        {
          "output_type": "execute_result",
          "data": {
            "text/plain": [
              "(30000, 32)"
            ]
          },
          "metadata": {
            "tags": []
          },
          "execution_count": 42
        }
      ]
    },
    {
      "cell_type": "code",
      "metadata": {
        "id": "fLw5u52vjQBt",
        "colab_type": "code",
        "colab": {}
      },
      "source": [
        "X_train1,X_test1,y_train1,y_test1=train_test_split(X_unsamples,y_unsamples,test_size=0.3,random_state=1234)"
      ],
      "execution_count": 0,
      "outputs": []
    },
    {
      "cell_type": "code",
      "metadata": {
        "id": "HqokRlPKjQBv",
        "colab_type": "code",
        "outputId": "801004a1-c1c7-4fbe-df9b-6ce1e72a425f",
        "colab": {
          "base_uri": "https://localhost:8080/",
          "height": 35
        }
      },
      "source": [
        "X_train1.shape,y_train1.shape"
      ],
      "execution_count": 0,
      "outputs": [
        {
          "output_type": "execute_result",
          "data": {
            "text/plain": [
              "((21000, 32), (21000,))"
            ]
          },
          "metadata": {
            "tags": []
          },
          "execution_count": 44
        }
      ]
    },
    {
      "cell_type": "code",
      "metadata": {
        "id": "zVM_nlCejQBx",
        "colab_type": "code",
        "colab": {}
      },
      "source": [
        "lr=LogisticRegression()"
      ],
      "execution_count": 0,
      "outputs": []
    },
    {
      "cell_type": "code",
      "metadata": {
        "id": "wUFR5xkkjQBz",
        "colab_type": "code",
        "outputId": "6eec8bdf-31b4-40da-de4a-3374a1258e1a",
        "colab": {
          "base_uri": "https://localhost:8080/",
          "height": 74
        }
      },
      "source": [
        "lr_model1=lr.fit(X_train1,y_train1)"
      ],
      "execution_count": 0,
      "outputs": [
        {
          "output_type": "stream",
          "text": [
            "/usr/local/lib/python3.6/dist-packages/sklearn/linear_model/logistic.py:432: FutureWarning: Default solver will be changed to 'lbfgs' in 0.22. Specify a solver to silence this warning.\n",
            "  FutureWarning)\n"
          ],
          "name": "stderr"
        }
      ]
    },
    {
      "cell_type": "code",
      "metadata": {
        "id": "xveblRd3jQB7",
        "colab_type": "code",
        "colab": {}
      },
      "source": [
        "pred_1=lr_model1.predict(X_test1)"
      ],
      "execution_count": 0,
      "outputs": []
    },
    {
      "cell_type": "code",
      "metadata": {
        "id": "IWkPA4MAjQB_",
        "colab_type": "code",
        "outputId": "51146853-1b15-453d-9adb-c1ecafb8e8d1",
        "colab": {
          "base_uri": "https://localhost:8080/",
          "height": 35
        }
      },
      "source": [
        "accuracy_score(y_test1,pred_1)"
      ],
      "execution_count": 0,
      "outputs": [
        {
          "output_type": "execute_result",
          "data": {
            "text/plain": [
              "0.7763333333333333"
            ]
          },
          "metadata": {
            "tags": []
          },
          "execution_count": 48
        }
      ]
    },
    {
      "cell_type": "code",
      "metadata": {
        "id": "amzpwxvHjQCC",
        "colab_type": "code",
        "outputId": "1c01c632-e3de-4096-b11f-113d82ae26c3",
        "colab": {
          "base_uri": "https://localhost:8080/",
          "height": 54
        }
      },
      "source": [
        "confusion_matrix(y_test1, pred_1)"
      ],
      "execution_count": 0,
      "outputs": [
        {
          "output_type": "execute_result",
          "data": {
            "text/plain": [
              "array([[6987,    0],\n",
              "       [2013,    0]])"
            ]
          },
          "metadata": {
            "tags": []
          },
          "execution_count": 49
        }
      ]
    },
    {
      "cell_type": "code",
      "metadata": {
        "id": "Fntx8IY_5Vdx",
        "colab_type": "code",
        "colab": {}
      },
      "source": [
        ""
      ],
      "execution_count": 0,
      "outputs": []
    },
    {
      "cell_type": "code",
      "metadata": {
        "id": "cbXu2j4UjQCF",
        "colab_type": "code",
        "colab": {}
      },
      "source": [
        "from sklearn.metrics import classification_report"
      ],
      "execution_count": 0,
      "outputs": []
    },
    {
      "cell_type": "code",
      "metadata": {
        "id": "0csa7usYjQCH",
        "colab_type": "code",
        "outputId": "4f85902a-60d0-4ba3-834b-615016494577",
        "colab": {
          "base_uri": "https://localhost:8080/",
          "height": 237
        }
      },
      "source": [
        "# create classification report\n",
        "print(classification_report(y_test1, pred_1, target_names=['not default', 'default']))"
      ],
      "execution_count": 0,
      "outputs": [
        {
          "output_type": "stream",
          "text": [
            "              precision    recall  f1-score   support\n",
            "\n",
            " not default       0.78      1.00      0.87      6987\n",
            "     default       0.00      0.00      0.00      2013\n",
            "\n",
            "    accuracy                           0.78      9000\n",
            "   macro avg       0.39      0.50      0.44      9000\n",
            "weighted avg       0.60      0.78      0.68      9000\n",
            "\n"
          ],
          "name": "stdout"
        },
        {
          "output_type": "stream",
          "text": [
            "/usr/local/lib/python3.6/dist-packages/sklearn/metrics/classification.py:1437: UndefinedMetricWarning: Precision and F-score are ill-defined and being set to 0.0 in labels with no predicted samples.\n",
            "  'precision', 'predicted', average, warn_for)\n"
          ],
          "name": "stderr"
        }
      ]
    },
    {
      "cell_type": "code",
      "metadata": {
        "id": "z-BEeUTf5Vjm",
        "colab_type": "code",
        "outputId": "be057022-e47b-4184-b5c0-55ea4a74b5b7",
        "colab": {
          "base_uri": "https://localhost:8080/",
          "height": 269
        }
      },
      "source": [
        "test_pred_proba = lr_model1.predict_proba(X_test1)[::,1]\n",
        "fpr, tpr, _ = metrics.roc_curve(y_test1,  test_pred_proba)\n",
        "auc = metrics.roc_auc_score(y_test1, test_pred_proba)\n",
        "plt.plot(fpr,tpr,label=\"data 1, auc=\"+str(auc))\n",
        "plt.legend(loc=4)\n",
        "plt.show()"
      ],
      "execution_count": 0,
      "outputs": [
        {
          "output_type": "display_data",
          "data": {
            "image/png": "[encoded data removed]",
            "text/plain": [
              "<Figure size 432x288 with 1 Axes>"
            ]
          },
          "metadata": {
            "tags": []
          }
        }
      ]
    },
    {
      "cell_type": "markdown",
      "metadata": {
        "id": "S_NfCbUnjQCK",
        "colab_type": "text"
      },
      "source": [
        "## Decision Tree with out sampling"
      ]
    },
    {
      "cell_type": "code",
      "metadata": {
        "id": "SGxNVJe0jQCL",
        "colab_type": "code",
        "colab": {}
      },
      "source": [
        "from sklearn.tree import DecisionTreeClassifier \n",
        "from sklearn.ensemble import RandomForestClassifier"
      ],
      "execution_count": 0,
      "outputs": []
    },
    {
      "cell_type": "code",
      "metadata": {
        "id": "YW0jVDNtjQCR",
        "colab_type": "code",
        "colab": {}
      },
      "source": [
        "DT=DecisionTreeClassifier()"
      ],
      "execution_count": 0,
      "outputs": []
    },
    {
      "cell_type": "code",
      "metadata": {
        "id": "9kLwj7w9jQCT",
        "colab_type": "code",
        "colab": {}
      },
      "source": [
        "DT1=DT.fit(X_train1,y_train1)"
      ],
      "execution_count": 0,
      "outputs": []
    },
    {
      "cell_type": "code",
      "metadata": {
        "id": "JTzCUN_fjQCV",
        "colab_type": "code",
        "colab": {}
      },
      "source": [
        "predydt1=DT1.predict(X_test1)"
      ],
      "execution_count": 0,
      "outputs": []
    },
    {
      "cell_type": "code",
      "metadata": {
        "id": "Kot3BwJYjQCY",
        "colab_type": "code",
        "outputId": "382dcb5d-8632-4df0-a23c-4724f0a9e147",
        "colab": {
          "base_uri": "https://localhost:8080/",
          "height": 181
        }
      },
      "source": [
        "print(classification_report(y_test1,predydt1))"
      ],
      "execution_count": 0,
      "outputs": [
        {
          "output_type": "stream",
          "text": [
            "              precision    recall  f1-score   support\n",
            "\n",
            "           0       0.83      0.82      0.83      6987\n",
            "           1       0.41      0.44      0.42      2013\n",
            "\n",
            "    accuracy                           0.73      9000\n",
            "   macro avg       0.62      0.63      0.62      9000\n",
            "weighted avg       0.74      0.73      0.74      9000\n",
            "\n"
          ],
          "name": "stdout"
        }
      ]
    },
    {
      "cell_type": "code",
      "metadata": {
        "id": "9VaqaCRZg9pV",
        "colab_type": "code",
        "outputId": "2fb10fbe-17d4-4736-bd27-365e314a9870",
        "colab": {
          "base_uri": "https://localhost:8080/",
          "height": 269
        }
      },
      "source": [
        "test_pred_proba = DT1.predict_proba(X_test1)[::,1]\n",
        "fpr, tpr, _ = metrics.roc_curve(y_test1,  test_pred_proba)\n",
        "auc = metrics.roc_auc_score(y_test1, test_pred_proba)\n",
        "plt.plot(fpr,tpr,label=\"data 1, auc=\"+str(auc))\n",
        "plt.legend(loc=4)\n",
        "plt.show()"
      ],
      "execution_count": 0,
      "outputs": [
        {
          "output_type": "display_data",
          "data": {
            "image/png": "[encoded data removed]",
            "text/plain": [
              "<Figure size 432x288 with 1 Axes>"
            ]
          },
          "metadata": {
            "tags": []
          }
        }
      ]
    },
    {
      "cell_type": "markdown",
      "metadata": {
        "id": "jaXDXmx4jQCb",
        "colab_type": "text"
      },
      "source": [
        "## Random Forest  with out sampling\n",
        "\n",
        "\n"
      ]
    },
    {
      "cell_type": "code",
      "metadata": {
        "id": "4KOPm4GhjQCc",
        "colab_type": "code",
        "colab": {}
      },
      "source": [
        "rf = RandomForestClassifier()"
      ],
      "execution_count": 0,
      "outputs": []
    },
    {
      "cell_type": "code",
      "metadata": {
        "id": "Sy06wp1WjQCf",
        "colab_type": "code",
        "outputId": "ee3c1942-8dae-45fd-c9d0-5446bca97762",
        "colab": {
          "base_uri": "https://localhost:8080/",
          "height": 237
        }
      },
      "source": [
        "rf1=rf.fit(X_train1,y_train1)\n",
        "predyrf1=rf1.predict(X_test1)\n",
        "print(classification_report(y_test1,predyrf1))"
      ],
      "execution_count": 0,
      "outputs": [
        {
          "output_type": "stream",
          "text": [
            "/usr/local/lib/python3.6/dist-packages/sklearn/ensemble/forest.py:245: FutureWarning: The default value of n_estimators will change from 10 in version 0.20 to 100 in 0.22.\n",
            "  \"10 in version 0.20 to 100 in 0.22.\", FutureWarning)\n"
          ],
          "name": "stderr"
        },
        {
          "output_type": "stream",
          "text": [
            "              precision    recall  f1-score   support\n",
            "\n",
            "           0       0.83      0.94      0.88      6987\n",
            "           1       0.60      0.32      0.42      2013\n",
            "\n",
            "    accuracy                           0.80      9000\n",
            "   macro avg       0.72      0.63      0.65      9000\n",
            "weighted avg       0.78      0.80      0.78      9000\n",
            "\n"
          ],
          "name": "stdout"
        }
      ]
    },
    {
      "cell_type": "code",
      "metadata": {
        "id": "SAPx1o_xjHLW",
        "colab_type": "code",
        "outputId": "6fb2bbcc-b1a3-41a4-f7b9-47d208618274",
        "colab": {
          "base_uri": "https://localhost:8080/",
          "height": 269
        }
      },
      "source": [
        "test_pred_proba = rf1.predict_proba(X_test1)[::,1]\n",
        "fpr, tpr, _ = metrics.roc_curve(y_test1,  test_pred_proba)\n",
        "auc = metrics.roc_auc_score(y_test1, test_pred_proba)\n",
        "plt.plot(fpr,tpr,label=\"data 1, auc=\"+str(auc))\n",
        "plt.legend(loc=4)\n",
        "plt.show()"
      ],
      "execution_count": 0,
      "outputs": [
        {
          "output_type": "display_data",
          "data": {
            "image/png": "[encoded data removed]",
            "text/plain": [
              "<Figure size 432x288 with 1 Axes>"
            ]
          },
          "metadata": {
            "tags": []
          }
        }
      ]
    },
    {
      "cell_type": "markdown",
      "metadata": {
        "id": "FVw5kTDcjQCi",
        "colab_type": "text"
      },
      "source": [
        "## LogisticRegression With balanced"
      ]
    },
    {
      "cell_type": "code",
      "metadata": {
        "id": "OK4o4vBYjQCj",
        "colab_type": "code",
        "colab": {}
      },
      "source": [
        " lr_balanced=LogisticRegression(class_weight='balanced')"
      ],
      "execution_count": 0,
      "outputs": []
    },
    {
      "cell_type": "code",
      "metadata": {
        "colab_type": "code",
        "id": "3gxRAT_2DB3i",
        "outputId": "fe7e161e-b9c8-4fd5-b7d2-cfcc7dae0a26",
        "colab": {
          "base_uri": "https://localhost:8080/",
          "height": 310
        }
      },
      "source": [
        "lr_model2=lr_balanced.fit(X_train1,y_train1)\n",
        "pred_2=lr_model2.predict(X_test1)\n",
        "print(\"Accuracy_score:\",accuracy_score(y_test1,pred_2))\n",
        "print(\"Confusion_matrix:\\n\",confusion_matrix(y_test1, pred_2))\n",
        "print(classification_report(y_test1, pred_2, target_names=['not default', 'default']))"
      ],
      "execution_count": 0,
      "outputs": [
        {
          "output_type": "stream",
          "text": [
            "/usr/local/lib/python3.6/dist-packages/sklearn/linear_model/logistic.py:432: FutureWarning: Default solver will be changed to 'lbfgs' in 0.22. Specify a solver to silence this warning.\n",
            "  FutureWarning)\n"
          ],
          "name": "stderr"
        },
        {
          "output_type": "stream",
          "text": [
            "Accuracy_score: 0.6118888888888889\n",
            "Confusion_matrix:\n",
            " [[4139 2848]\n",
            " [ 645 1368]]\n",
            "              precision    recall  f1-score   support\n",
            "\n",
            " not default       0.87      0.59      0.70      6987\n",
            "     default       0.32      0.68      0.44      2013\n",
            "\n",
            "    accuracy                           0.61      9000\n",
            "   macro avg       0.59      0.64      0.57      9000\n",
            "weighted avg       0.74      0.61      0.64      9000\n",
            "\n"
          ],
          "name": "stdout"
        }
      ]
    },
    {
      "cell_type": "code",
      "metadata": {
        "id": "E5dEFpWHjTLs",
        "colab_type": "code",
        "outputId": "d5680695-0e0d-4a95-f00d-43f15796a425",
        "colab": {
          "base_uri": "https://localhost:8080/",
          "height": 269
        }
      },
      "source": [
        "test_pred_proba = lr_model2.predict_proba(X_test1)[::,1]\n",
        "fpr, tpr, _ = metrics.roc_curve(y_test1,  test_pred_proba)\n",
        "auc = metrics.roc_auc_score(y_test1, test_pred_proba)\n",
        "plt.plot(fpr,tpr,label=\"data 1, auc=\"+str(auc))\n",
        "plt.legend(loc=4)\n",
        "plt.show()"
      ],
      "execution_count": 0,
      "outputs": [
        {
          "output_type": "display_data",
          "data": {
            "image/png": "[encoded data removed]",
            "text/plain": [
              "<Figure size 432x288 with 1 Axes>"
            ]
          },
          "metadata": {
            "tags": []
          }
        }
      ]
    },
    {
      "cell_type": "markdown",
      "metadata": {
        "id": "Y4qKj1AWoeFM",
        "colab_type": "text"
      },
      "source": [
        "##GridSearch"
      ]
    },
    {
      "cell_type": "code",
      "metadata": {
        "id": "vqrvmyFOe7eh",
        "colab_type": "code",
        "colab": {}
      },
      "source": [
        "# Define function to optimize model based on ROC_auc\n",
        "#(for unbalanced classes, roc_auc makes more sence since the accuracy score can be fooled by only predicting 0)\n",
        "\n",
        "def gridsearchcv(model,params,X_train,y_train):\n",
        "    gs=GridSearchCV(model,params,\n",
        "                    scoring='roc_auc',\n",
        "                    n_jobs=-1)\n",
        "    gs.fit(X_train,y_train)\n",
        "    print(\"Best Params:\",gs.best_params_)\n",
        "    print(\"Best auc on training set:\",gs.best_score_)\n",
        "    print('Best auc on test set:',gs.score(X_test,y_test))\n",
        "    return gs.predict(X_test),gs.decision_function(X_test)\n",
        "\n",
        "    "
      ],
      "execution_count": 0,
      "outputs": []
    },
    {
      "cell_type": "code",
      "metadata": {
        "id": "0mRDM5NCeu-3",
        "colab_type": "code",
        "colab": {}
      },
      "source": [
        "def plot_confusion(prediction):\n",
        "    conmat=np.array(confusion_matrix(y_test,prediction,labels=[1,0]))\n",
        "    confusion=pd.DataFrame(conmat,index=['default','not default'],\n",
        "                           columns=['predicted default','not predicted default'])\n",
        "    print(confusion)"
      ],
      "execution_count": 0,
      "outputs": []
    },
    {
      "cell_type": "code",
      "metadata": {
        "id": "NI2peareemiJ",
        "colab_type": "code",
        "colab": {}
      },
      "source": [
        "#Define Function to plot Roc Curve\n",
        "def plot_roc(prob):\n",
        "    y_score = prob\n",
        "    fpr=dict()\n",
        "    tpr=dict()\n",
        "    roc_auc=dict()\n",
        "    fpr[1],tpr[1],_=roc_curve(y_test,y_score)\n",
        "    roc_auc[1]=auc(fpr[1],tpr[1])\n",
        "    plt.figure(figsize=[9,7])\n",
        "    plt.plot(fpr[1], tpr[1], label='Roc curve (area=%0.2f)' %roc_auc[1], linewidth=4)\n",
        "    plt.plot([1,0], [1,0], 'k--', linewidth=4)\n",
        "    plt.xlim([0.0, 1.0])\n",
        "    plt.ylim([0.0, 1.0])\n",
        "    plt.xlabel('false positive rate', fontsize=18)\n",
        "    plt.ylabel('true positive rate', fontsize=18)\n",
        "    plt.title('ROC curve for credit default', fontsize=18)\n",
        "    plt.legend(loc='lower right')\n",
        "    plt.show()"
      ],
      "execution_count": 0,
      "outputs": []
    },
    {
      "cell_type": "markdown",
      "metadata": {
        "id": "Y3VriFoeN5Ph",
        "colab_type": "text"
      },
      "source": [
        "## Decision Tree With balanced"
      ]
    },
    {
      "cell_type": "code",
      "metadata": {
        "id": "GGM14--3jQCt",
        "colab_type": "code",
        "colab": {}
      },
      "source": [
        "DT2=DecisionTreeClassifier(class_weight='balanced')"
      ],
      "execution_count": 0,
      "outputs": []
    },
    {
      "cell_type": "code",
      "metadata": {
        "id": "T0Q1TprBjQCx",
        "colab_type": "code",
        "outputId": "c15f42a6-2570-4c24-a691-a9276f25de50",
        "colab": {
          "base_uri": "https://localhost:8080/",
          "height": 181
        }
      },
      "source": [
        "DT22=DT2.fit(X_train1,y_train1)\n",
        "predydt2=DT22.predict(X_test1)\n",
        "print(classification_report(y_test1,predydt2))"
      ],
      "execution_count": 0,
      "outputs": [
        {
          "output_type": "stream",
          "text": [
            "              precision    recall  f1-score   support\n",
            "\n",
            "           0       0.83      0.83      0.83      6987\n",
            "           1       0.40      0.40      0.40      2013\n",
            "\n",
            "    accuracy                           0.73      9000\n",
            "   macro avg       0.61      0.62      0.62      9000\n",
            "weighted avg       0.73      0.73      0.73      9000\n",
            "\n"
          ],
          "name": "stdout"
        }
      ]
    },
    {
      "cell_type": "code",
      "metadata": {
        "id": "hvutAb1PjpLq",
        "colab_type": "code",
        "outputId": "b9263152-109a-42a6-9825-f64c8e49c6ce",
        "colab": {
          "base_uri": "https://localhost:8080/",
          "height": 269
        }
      },
      "source": [
        "test_pred_proba = DT22.predict_proba(X_test1)[::,1]\n",
        "fpr, tpr, _ = metrics.roc_curve(y_test1,  test_pred_proba)\n",
        "auc = metrics.roc_auc_score(y_test1, test_pred_proba)\n",
        "plt.plot(fpr,tpr,label=\"data 1, auc=\"+str(auc))\n",
        "plt.legend(loc=4)\n",
        "plt.show()"
      ],
      "execution_count": 0,
      "outputs": [
        {
          "output_type": "display_data",
          "data": {
            "image/png": "[encoded data removed]",
            "text/plain": [
              "<Figure size 432x288 with 1 Axes>"
            ]
          },
          "metadata": {
            "tags": []
          }
        }
      ]
    }
  ]
}