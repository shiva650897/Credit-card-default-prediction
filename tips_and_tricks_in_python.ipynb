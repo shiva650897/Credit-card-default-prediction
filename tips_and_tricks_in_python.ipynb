{
  "nbformat": 4,
  "nbformat_minor": 0,
  "metadata": {
    "colab": {
      "name": "tips and tricks in python.ipynb",
      "provenance": []
    },
    "kernelspec": {
      "name": "python3",
      "display_name": "Python 3"
    }
  },
  "cells": [
    {
      "cell_type": "markdown",
      "metadata": {
        "id": "2MdUpl9c-O7D",
        "colab_type": "text"
      },
      "source": [
        "Concatenating Strings"
      ]
    },
    {
      "cell_type": "code",
      "metadata": {
        "id": "09n-RjIW-Ewa",
        "colab_type": "code",
        "colab": {
          "base_uri": "https://localhost:8080/",
          "height": 34
        },
        "outputId": "a128dbee-b0f9-46c7-c8d4-befd1415ffee"
      },
      "source": [
        "characters = ['p', 'y', 't', 'h', 'o', 'n']\n",
        "word = \"\".join(characters)\n",
        "word"
      ],
      "execution_count": 1,
      "outputs": [
        {
          "output_type": "execute_result",
          "data": {
            "text/plain": [
              "'python'"
            ]
          },
          "metadata": {
            "tags": []
          },
          "execution_count": 1
        }
      ]
    },
    {
      "cell_type": "markdown",
      "metadata": {
        "id": "e2E5XZWI-ZPm",
        "colab_type": "text"
      },
      "source": [
        "List Comprehensions"
      ]
    },
    {
      "cell_type": "code",
      "metadata": {
        "id": "VoePD4fW-UyT",
        "colab_type": "code",
        "colab": {
          "base_uri": "https://localhost:8080/",
          "height": 34
        },
        "outputId": "eea8edd0-7f18-4f80-ba42-93744270ec8e"
      },
      "source": [
        "m = [x ** 2 for x in range(5)]\n",
        "print(m)"
      ],
      "execution_count": 2,
      "outputs": [
        {
          "output_type": "stream",
          "text": [
            "[0, 1, 4, 9, 16]\n"
          ],
          "name": "stdout"
        }
      ]
    },
    {
      "cell_type": "code",
      "metadata": {
        "id": "ZeODtXVA-cMW",
        "colab_type": "code",
        "colab": {
          "base_uri": "https://localhost:8080/",
          "height": 34
        },
        "outputId": "98c68d62-8ddc-417f-df28-0d740e30d91c"
      },
      "source": [
        "#let’s find the common numbers from two list using list comprehension\n",
        "list_a = [1, 2, 3, 4]\n",
        "list_b = [2, 3, 4, 5]\n",
        "common_num = [a for a in list_a for b in list_b if a == b]\n",
        "print(common_num)"
      ],
      "execution_count": 3,
      "outputs": [
        {
          "output_type": "stream",
          "text": [
            "[2, 3, 4]\n"
          ],
          "name": "stdout"
        }
      ]
    },
    {
      "cell_type": "markdown",
      "metadata": {
        "id": "Od0ODPTFAtem",
        "colab_type": "text"
      },
      "source": [
        "Write a program that prints the numbers in a list, for multiples of ‘3’ print “fizz” instead of the number, for the multiples of ‘5’ print “buzz” and for multiples of both 3 and 5 it prints “fizzbuzz”."
      ]
    },
    {
      "cell_type": "code",
      "metadata": {
        "id": "KDFoUooX-rrj",
        "colab_type": "code",
        "colab": {
          "base_uri": "https://localhost:8080/",
          "height": 34
        },
        "outputId": "cfc4c5a5-43e8-4ccb-eb59-c4d270082bc5"
      },
      "source": [
        "numb = [12,15,7] # enumerate is used to get index and number\n",
        "for i,num in enumerate(numb):\n",
        "  if num%3==0 and num%5==0:\n",
        "    numb[i]=\"fizzbuzz\"\n",
        "  elif num%3==0:\n",
        "    numb[i]=\"fizz\"\n",
        "  elif num%5==0:\n",
        "    numb[i]=\"buzz\"\n",
        "print(numb)"
      ],
      "execution_count": 8,
      "outputs": [
        {
          "output_type": "stream",
          "text": [
            "['fizz', 'fizzbuzz', 7]\n"
          ],
          "name": "stdout"
        }
      ]
    },
    {
      "cell_type": "code",
      "metadata": {
        "id": "Ay810AcM_lez",
        "colab_type": "code",
        "colab": {
          "base_uri": "https://localhost:8080/",
          "height": 67
        },
        "outputId": "6409ed49-fae1-4066-84f1-c42a8ae2ae58"
      },
      "source": [
        "# zip to combine several lists with the same length and print out the result\n",
        "countries = ['France', 'Germany', 'Canada']\n",
        "capitals = ['Paris', 'Berlin', 'Ottawa']\n",
        "for country, capital in zip(countries,capitals):\n",
        "    print(country,capital)"
      ],
      "execution_count": 11,
      "outputs": [
        {
          "output_type": "stream",
          "text": [
            "France Paris\n",
            "Germany Berlin\n",
            "Canada Ottawa\n"
          ],
          "name": "stdout"
        }
      ]
    },
    {
      "cell_type": "markdown",
      "metadata": {
        "id": "lcw3f1JpBtTV",
        "colab_type": "text"
      },
      "source": [
        "Suppose there are four teams playing in a tournament. In the league stages every team plays against every other team. Your task is to generate all the possible teams that would compete against each other."
      ]
    },
    {
      "cell_type": "code",
      "metadata": {
        "id": "mGLGnFtuBWFk",
        "colab_type": "code",
        "colab": {
          "base_uri": "https://localhost:8080/",
          "height": 118
        },
        "outputId": "374cc949-4f36-45ba-dd17-aa11d99a3bec"
      },
      "source": [
        "import itertools\n",
        "friends = ['Team 1', 'Team 2', 'Team 3', 'Team 4']\n",
        "list(itertools.combinations(friends, r=2))"
      ],
      "execution_count": 12,
      "outputs": [
        {
          "output_type": "execute_result",
          "data": {
            "text/plain": [
              "[('Team 1', 'Team 2'),\n",
              " ('Team 1', 'Team 3'),\n",
              " ('Team 1', 'Team 4'),\n",
              " ('Team 2', 'Team 3'),\n",
              " ('Team 2', 'Team 4'),\n",
              " ('Team 3', 'Team 4')]"
            ]
          },
          "metadata": {
            "tags": []
          },
          "execution_count": 12
        }
      ]
    },
    {
      "cell_type": "code",
      "metadata": {
        "id": "xmulI7FwBxA8",
        "colab_type": "code",
        "colab": {
          "base_uri": "https://localhost:8080/",
          "height": 34
        },
        "outputId": "70a83484-7974-4767-ec3c-818373e62106"
      },
      "source": [
        "from collections import Counter\n",
        "count = Counter(['a','b','c','d','b','c','d','b'])\n",
        "print(count)"
      ],
      "execution_count": 15,
      "outputs": [
        {
          "output_type": "stream",
          "text": [
            "Counter({'b': 3, 'c': 2, 'd': 2, 'a': 1})\n"
          ],
          "name": "stdout"
        }
      ]
    },
    {
      "cell_type": "code",
      "metadata": {
        "id": "p1OLuPT_B7OG",
        "colab_type": "code",
        "colab": {
          "base_uri": "https://localhost:8080/",
          "height": 34
        },
        "outputId": "d8e06e71-a3f6-479e-cf78-cce0737bcc98"
      },
      "source": [
        "# Convert Two Lists Into a Dictionary\n",
        "students = [\"Peter\", \"Julia\", \"Alex\"]\n",
        "marks = [84, 65, 77]\n",
        "dictionary = dict(zip(students, marks))\n",
        "print(dictionary)"
      ],
      "execution_count": 16,
      "outputs": [
        {
          "output_type": "stream",
          "text": [
            "{'Peter': 84, 'Julia': 65, 'Alex': 77}\n"
          ],
          "name": "stdout"
        }
      ]
    },
    {
      "cell_type": "markdown",
      "metadata": {
        "id": "hyiHYtaRCg2g",
        "colab_type": "text"
      },
      "source": [
        "Suppose you’ve been given to find the sum of the first 100000000 perfect squares, starting with 1."
      ]
    },
    {
      "cell_type": "code",
      "metadata": {
        "id": "TvULSM1ACRoE",
        "colab_type": "code",
        "colab": {
          "base_uri": "https://localhost:8080/",
          "height": 34
        },
        "outputId": "bb3ba0c2-468b-4005-d218-10c5afa3acbc"
      },
      "source": [
        "import time\n",
        "t1 = time.clock()\n",
        "sum([i * i for i in range(1, 100000000)])\n",
        "t2 = time.clock()\n",
        "time_diff = t2 - t1\n",
        "print(f\"It took {time_diff} Secs to execute this method\")"
      ],
      "execution_count": 18,
      "outputs": [
        {
          "output_type": "stream",
          "text": [
            "It took 13.890834 Secs to execute this method\n"
          ],
          "name": "stdout"
        }
      ]
    },
    {
      "cell_type": "code",
      "metadata": {
        "id": "1M_bl-ssCn3z",
        "colab_type": "code",
        "colab": {
          "base_uri": "https://localhost:8080/",
          "height": 34
        },
        "outputId": "d1434465-9f6d-428a-920f-5d9867e8c533"
      },
      "source": [
        "t1 = time.clock()\n",
        "sum((i * i for i in range(1, 100000000)))\n",
        "t2 = time.clock()\n",
        "time_diff = t2 - t1\n",
        "print(f\"It took {time_diff} Secs to execute this method\")"
      ],
      "execution_count": 19,
      "outputs": [
        {
          "output_type": "stream",
          "text": [
            "It took 9.424458000000001 Secs to execute this method\n"
          ],
          "name": "stdout"
        }
      ]
    },
    {
      "cell_type": "markdown",
      "metadata": {
        "id": "-5kONAsJDGQD",
        "colab_type": "text"
      },
      "source": [
        "Return Multiple Values From a Function"
      ]
    },
    {
      "cell_type": "code",
      "metadata": {
        "id": "zSKVWcn5C2BP",
        "colab_type": "code",
        "colab": {
          "base_uri": "https://localhost:8080/",
          "height": 34
        },
        "outputId": "d086bd93-490f-4285-a8b5-8e75bbfbfa7b"
      },
      "source": [
        "def multiplication_division(num1, num2):\n",
        "    return num1*num2, num1/num2\n",
        "product, division = multiplication_division(15, 3)\n",
        "print(\"Product=\", product, \"Quotient =\", division)"
      ],
      "execution_count": 20,
      "outputs": [
        {
          "output_type": "stream",
          "text": [
            "Product= 45 Quotient = 5.0\n"
          ],
          "name": "stdout"
        }
      ]
    },
    {
      "cell_type": "code",
      "metadata": {
        "id": "sWiSenfMDJdJ",
        "colab_type": "code",
        "colab": {
          "base_uri": "https://localhost:8080/",
          "height": 34
        },
        "outputId": "e8d7cc53-6fce-4a74-e204-f10121b22d68"
      },
      "source": [
        "sorted([3,5,2,1,4])"
      ],
      "execution_count": 21,
      "outputs": [
        {
          "output_type": "execute_result",
          "data": {
            "text/plain": [
              "[1, 2, 3, 4, 5]"
            ]
          },
          "metadata": {
            "tags": []
          },
          "execution_count": 21
        }
      ]
    },
    {
      "cell_type": "code",
      "metadata": {
        "id": "zqBw-rclDOsz",
        "colab_type": "code",
        "colab": {
          "base_uri": "https://localhost:8080/",
          "height": 34
        },
        "outputId": "b5529ec6-9f30-402e-c096-20f0ce2edbc8"
      },
      "source": [
        "sorted(['france', 'germany', 'canada', 'india', 'china'], reverse=True)"
      ],
      "execution_count": 22,
      "outputs": [
        {
          "output_type": "execute_result",
          "data": {
            "text/plain": [
              "['india', 'germany', 'france', 'china', 'canada']"
            ]
          },
          "metadata": {
            "tags": []
          },
          "execution_count": 22
        }
      ]
    },
    {
      "cell_type": "code",
      "metadata": {
        "id": "MZxxi8U3DRto",
        "colab_type": "code",
        "colab": {}
      },
      "source": [
        ""
      ],
      "execution_count": 0,
      "outputs": []
    }
  ]
}